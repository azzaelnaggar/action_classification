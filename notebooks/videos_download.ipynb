{
  "nbformat": 4,
  "nbformat_minor": 0,
  "metadata": {
    "colab": {
      "provenance": []
    },
    "kernelspec": {
      "name": "python3",
      "display_name": "Python 3"
    },
    "language_info": {
      "name": "python"
    }
  },
  "cells": [
    {
      "cell_type": "code",
      "source": [
        "# !pip install pytube\n",
        "!pip install imageio-ffmpeg"
      ],
      "metadata": {
        "colab": {
          "base_uri": "https://localhost:8080/"
        },
        "id": "gFD5ZZy--tPk",
        "outputId": "979f6e8a-e7d3-42da-e501-6b7be809d8ad"
      },
      "execution_count": 1,
      "outputs": [
        {
          "output_type": "stream",
          "name": "stdout",
          "text": [
            "Looking in indexes: https://pypi.org/simple, https://us-python.pkg.dev/colab-wheels/public/simple/\n",
            "Requirement already satisfied: imageio-ffmpeg in /usr/local/lib/python3.7/dist-packages (0.4.7)\n"
          ]
        }
      ]
    },
    {
      "cell_type": "code",
      "source": [
        "from google.colab import drive\n",
        "drive.mount('/content/drive')"
      ],
      "metadata": {
        "colab": {
          "base_uri": "https://localhost:8080/"
        },
        "id": "29V7KTWK_b-z",
        "outputId": "5019d3c7-f1d1-425c-d225-3892d07576dc"
      },
      "execution_count": 2,
      "outputs": [
        {
          "output_type": "stream",
          "name": "stdout",
          "text": [
            "Drive already mounted at /content/drive; to attempt to forcibly remount, call drive.mount(\"/content/drive\", force_remount=True).\n"
          ]
        }
      ]
    },
    {
      "cell_type": "code",
      "source": [
        "import sys\n",
        "import os\n",
        "import pandas as pd\n",
        "from moviepy.editor import *\n",
        "import shutil"
      ],
      "metadata": {
        "id": "GxZoxB50PorE"
      },
      "execution_count": 3,
      "outputs": []
    },
    {
      "cell_type": "markdown",
      "source": [
        "# download videos from URL"
      ],
      "metadata": {
        "id": "esqvOmFcJLFt"
      }
    },
    {
      "cell_type": "code",
      "execution_count": null,
      "metadata": {
        "id": "apPbWN169MFi"
      },
      "outputs": [],
      "source": [
        "\n",
        "try:\n",
        "    from pytube import YouTube\n",
        "    from pytube import Playlist\n",
        "except Exception as e:\n",
        "    print('Module is not there!!...',e)\n",
        "    sys.exit()\n",
        "\n",
        "# First get the video link from the csv file\n",
        "\n",
        "try:\n",
        "    # path = input(\"Enter the path: \")\n",
        "    df = pd.read_csv('/content/train.csv')\n",
        "    def link():\n",
        "\n",
        "        classes = ['breakdancing','celebrating','clay pottery making',\n",
        "                   'eating ice cream','golf driving','push up',\n",
        "                   'raising eyebrows','riding scooter','shaking head','welding']\n",
        "        all_link = []\n",
        "        for i in range(len(classes)):\n",
        "            new_df = df[df['label'] == classes[i]]      # get the links with matching label\n",
        "            all_link.append(list(new_df['youtube_id']))\n",
        "\n",
        "        return all_link\n",
        "\n",
        "except:\n",
        "    print('invalid path..!!')\n",
        "    sys.exit()\n",
        "\n",
        "\n",
        "link_list = link()\n",
        "\n",
        "# Download the videos\n",
        "\n",
        "main_url = 'https://www.youtube.com/watch?v='\n",
        "\n",
        "enter_path = input(\"Please enter the path where you want to download the Videos:.....\")\n",
        "\n",
        "if not os.path.exists(enter_path +'/'+'videos'):   #this create video folder where you want to downlod the videos\n",
        "    os.makedirs(enter_path +'/'+'videos')\n",
        "\n",
        "main_path = enter_path +\"/\"+'videos'\n",
        "\n",
        "for i in range(len(link_list)):                          #this create the folders for each class.\n",
        "    if not os.path.exists(main_path + '/' + str(i)):\n",
        "        os.makedirs(main_path + '/' + str(i))\n",
        "\n",
        "\n",
        "want_videos = int(input(\"Enter how many videos you want to download for each class:.....\"))\n",
        "\n",
        "for i in range(len(link_list)):\n",
        "    k = 0\n",
        "    for j in range(len(link_list[i])):\n",
        "\n",
        "        downloaded_video = os.listdir(main_path+'/'+str(i)) # Find all the video name in current \"i\" folder.\n",
        "\n",
        "        try:\n",
        "            if k < want_videos:\n",
        "                if str(link_list[i][j] + '.mp4') not in downloaded_video:  # \"If\" the video is not in the folder then download  otherwise go to \"else\".\n",
        "                    url = main_url + str(link_list[i][j])\n",
        "                    stream = YouTube(url).streams.first()\n",
        "                    print(\"Downloading...!\", i, str(link_list[i][j]))\n",
        "                    print(url)\n",
        "                    stream.download(output_path=main_path+'/'+str(i), filename=str(link_list[i][j]))\n",
        "\n",
        "                else:\n",
        "                    print(\"You have this video: \",i, str(link_list[i][j]))\n",
        "                k = k + 1\n",
        "\n",
        "\n",
        "        except:\n",
        "            print('Dose not found this video: ',url)\n",
        "            continue\n"
      ]
    },
    {
      "cell_type": "code",
      "source": [
        "N = 0 \n",
        "for dirpath, dirnames, filenames in os.walk('/content/drive/MyDrive/videos/'):\n",
        "    N += len(filenames)\n",
        "    print(\"Files in\", dirpath, len(filenames))\n",
        "\n",
        "print(\"Total files\", N)"
      ],
      "metadata": {
        "colab": {
          "base_uri": "https://localhost:8080/"
        },
        "id": "GY3GF1drMogg",
        "outputId": "5369f7b6-2c37-48cb-a04e-52fa016cef9d"
      },
      "execution_count": 4,
      "outputs": [
        {
          "output_type": "stream",
          "name": "stdout",
          "text": [
            "Files in /content/drive/MyDrive/videos/ 0\n",
            "Files in /content/drive/MyDrive/videos/0 22\n",
            "Files in /content/drive/MyDrive/videos/1 22\n",
            "Files in /content/drive/MyDrive/videos/2 22\n",
            "Files in /content/drive/MyDrive/videos/3 22\n",
            "Files in /content/drive/MyDrive/videos/4 22\n",
            "Files in /content/drive/MyDrive/videos/5 22\n",
            "Files in /content/drive/MyDrive/videos/6 22\n",
            "Files in /content/drive/MyDrive/videos/7 22\n",
            "Files in /content/drive/MyDrive/videos/8 16\n",
            "Files in /content/drive/MyDrive/videos/9 12\n",
            "Total files 204\n"
          ]
        }
      ]
    },
    {
      "cell_type": "markdown",
      "source": [
        "# trim videos according to to start and end time in CSV file\n"
      ],
      "metadata": {
        "id": "XJOPIBDZJTq8"
      }
    },
    {
      "cell_type": "code",
      "source": [
        "classified_video_folders_path = r\"/content/drive/MyDrive/videos\"\n",
        "\n",
        "classified_video_folders = os.listdir(classified_video_folders_path)\n",
        "folder_name = \"trim_video\"\n",
        "\n",
        "# if the folder (folder_name) is already exist then first remove it.\n",
        "for i in range(len(classified_video_folders)):\n",
        "    if os.path.exists(classified_video_folders_path + \"/\" + str(i) + '/' + folder_name):\n",
        "        shutil.rmtree(classified_video_folders_path + \"/\" + str(i) + '/' + folder_name)\n",
        "\n",
        "# get the name of all the videos with extension .mp4\n",
        "link_list_mp4 = []\n",
        "for i in range(len(classified_video_folders)):\n",
        "    link = os.listdir(classified_video_folders_path + '/' + str(i))\n",
        "    link_list_mp4.append(link)\n",
        "\n",
        "# remove the extention .mp4\n",
        "# link_list = []\n",
        "# for i in link_list_mp4:\n",
        "#     temp_list = []\n",
        "#     for j in i:\n",
        "#         temp_list.append(j[:-3])\n",
        "#     link_list.append(temp_list)\n",
        "# link_list\n",
        "\n",
        "# get the start and end time list of each video link\n",
        "df = pd.read_csv('/content/train.csv')\n",
        "time_start, time_end = [], []\n",
        "\n",
        "for i in link_list_mp4:\n",
        "    temp_time_start, temp_time_end = [], []\n",
        "    for j in i:\n",
        "        new_df=df[df['youtube_id'] == str(j)]        \n",
        "        new_df = df.dropna(subset=['time_start','time_end'])  \n",
        "# print(new_df)\n",
        "        temp_time_start.append(new_df['time_start'].iloc[0])\n",
        "        temp_time_end.append(new_df['time_end'].iloc[0])\n",
        "\n",
        "    time_start.append(temp_time_start)\n",
        "    time_end.append(temp_time_end)\n",
        "\n",
        "\n",
        "# print(time_start,time_end)\n",
        "# print(len(time_start),len(time_end))\n",
        "# # print(link_list[9][19], time_start[9][19], time_end[9][19])\n",
        "\n",
        "\n",
        "# trim the video and save in a propre directory\n",
        "\n",
        "for i in range(len(link_list_mp4)):\n",
        "    folder_name = \"trim_video\"\n",
        "    if not os.path.exists(classified_video_folders_path + \"/\" + str(i)  + '/' + folder_name):\n",
        "        os.makedirs(classified_video_folders_path + \"/\" + str(i)  + '/' + folder_name)\n",
        "\n",
        "    new_video_path = classified_video_folders_path + \"/\" + str(i)  + '/' + folder_name\n",
        "    for j in range(len(link_list_mp4[i])):\n",
        "        path_of_each_video = classified_video_folders_path + \"/\" + str(i) +'/'+ str(link_list_mp4[i][j])+\".mp4\"\n",
        "        try:\n",
        "            vid = VideoFileClip(path_of_each_video)\n",
        "            duration = int(vid.duration)\n",
        "            # If else statement is used here because if the len of required clip is greater than actual len of video\n",
        "            # so we have edit that length using duratuin parameter\n",
        "            if time_end[i][j] <= duration:\n",
        "                trim_video = vid.subclip(int(time_start[i][j]), int(time_end[i][j]))\n",
        "                trim_video.write_videofile(new_video_path+'/'+str(j)+str(link_list_mp4[i][j])+'.mp4')\n",
        "            else:\n",
        "                trim_video = vid.subclip(int(time_start[i][j]), duration)\n",
        "                trim_video.write_videofile(new_video_path + '/' + str(j) + str(link_list_mp4[i][j]) + '.mp4')\n",
        "\n",
        "            os.rename(new_video_path+'/'+str(j)+str(link_list_mp4[i][j])+'.mp4', new_video_path+'/'+str(link_list_mp4[i][j])+'.mp4')  #rename each video\n",
        "        except:\n",
        "            print(link_list_mp4[i][j],\" this video is not properly downloaded or unavailable in the \",i,\" folder\")\n",
        "\n"
      ],
      "metadata": {
        "id": "G9ckEAyC-4Lq"
      },
      "execution_count": null,
      "outputs": []
    },
    {
      "cell_type": "code",
      "source": [],
      "metadata": {
        "id": "eSxjWINWRGcN"
      },
      "execution_count": 14,
      "outputs": []
    }
  ]
}