{
  "cells": [
    {
      "cell_type": "markdown",
      "metadata": {
        "id": "VCa_25wSUEPg"
      },
      "source": [
        "https://medium.com/@mygreatlearning/everything-you-need-to-know-about-vgg16-7315defb5918\n",
        "\n",
        "\n",
        "https://medium.com/smileinnovation/how-to-work-with-time-distributed-data-in-a-neural-network-b8b39aa4ce00"
      ]
    },
    {
      "cell_type": "markdown",
      "metadata": {
        "id": "TrkHsVf4rGQ6"
      },
      "source": [
        "# Final Project"
      ]
    },
    {
      "cell_type": "markdown",
      "metadata": {
        "id": "IZEAjFMXrGRD"
      },
      "source": [
        "## Build a Human Action Recognition Model"
      ]
    },
    {
      "cell_type": "code",
      "execution_count": null,
      "metadata": {
        "id": "q8GrI018TZjL"
      },
      "outputs": [],
      "source": [
        "!pip install remotezip tqdm opencv-python einops\n",
        "import tqdm\n",
        "import random\n",
        "import pathlib\n",
        "import itertools\n",
        "import collections\n",
        "\n",
        "import cv2\n",
        "import einops \n",
        "import numpy as np\n",
        "import remotezip as rz\n",
        "import seaborn as sns\n",
        "import matplotlib.pyplot as plt\n",
        "\n",
        "import tensorflow as tf\n",
        "import keras\n",
        "from keras import layers"
      ]
    },
    {
      "cell_type": "code",
      "execution_count": null,
      "metadata": {
        "colab": {
          "base_uri": "https://localhost:8080/",
          "height": 35
        },
        "id": "0MM3zCC0rGRE",
        "outputId": "a0426c9d-b500-4b65-ebee-f4d7a16a658b"
      },
      "outputs": [
        {
          "data": {
            "application/javascript": "IPython.notebook.set_autosave_interval(5000)"
          },
          "metadata": {},
          "output_type": "display_data"
        },
        {
          "name": "stdout",
          "output_type": "stream",
          "text": [
            "Autosaving every 5 seconds\n"
          ]
        }
      ],
      "source": [
        " # Libraries \n",
        "%autosave 5\n",
        "import warnings \n",
        "warnings.filterwarnings('ignore')\n",
        "import pandas as pd\n",
        "import numpy as np\n",
        "import matplotlib.pyplot as plt\n",
        "import seaborn as sns\n",
        "import tensorflow as tf\n",
        "import os\n",
        "from tensorflow.keras.utils import load_img, img_to_array,array_to_img\n",
        "%matplotlib inline\n",
        "\n",
        "from keras.preprocessing.image import ImageDataGenerator\n",
        "from tensorflow.keras import Model\n",
        "from keras.applications.imagenet_utils import preprocess_input\n",
        "\n",
        "\n"
      ]
    },
    {
      "cell_type": "code",
      "execution_count": null,
      "metadata": {
        "colab": {
          "base_uri": "https://localhost:8080/"
        },
        "id": "-x2z5knBzzWb",
        "outputId": "4bc1b065-a3b2-4c14-d35a-96120813e785"
      },
      "outputs": [
        {
          "name": "stdout",
          "output_type": "stream",
          "text": [
            "Drive already mounted at /content/drive; to attempt to forcibly remount, call drive.mount(\"/content/drive\", force_remount=True).\n"
          ]
        }
      ],
      "source": [
        "from google.colab import drive\n",
        "drive.mount('/content/drive')"
      ]
    },
    {
      "cell_type": "markdown",
      "metadata": {
        "id": "oQa_TeWrrGRF"
      },
      "source": [
        "# Data Understanding"
      ]
    },
    {
      "cell_type": "code",
      "execution_count": null,
      "metadata": {
        "id": "A1OtIHA6rGRP"
      },
      "outputs": [],
      "source": [
        "from sklearn.datasets import load_files"
      ]
    },
    {
      "cell_type": "markdown",
      "metadata": {
        "id": "4paH1ujUrGRP"
      },
      "source": [
        "### Loading the video files from the directory"
      ]
    },
    {
      "cell_type": "code",
      "execution_count": null,
      "metadata": {
        "id": "TJPBbcixrGRP"
      },
      "outputs": [],
      "source": [
        "# Loading the video files from the directory\n",
        "import os\n",
        "raw = load_files('/content/drive/MyDrive/videos',shuffle=False)"
      ]
    },
    {
      "cell_type": "code",
      "execution_count": null,
      "metadata": {
        "colab": {
          "base_uri": "https://localhost:8080/"
        },
        "id": "N0vJHCkQrGRQ",
        "outputId": "ac568a94-109b-4b36-80b2-fd7404fb4213"
      },
      "outputs": [
        {
          "name": "stdout",
          "output_type": "stream",
          "text": [
            "Total Files are :  300\n",
            "Total targets  are :  300\n",
            "Train files size :  240\n",
            "Train targets size :  240\n",
            "Test file(s) size :  60\n",
            "Test tragets size :  60\n"
          ]
        }
      ],
      "source": [
        "from sklearn.model_selection import train_test_split\n",
        "\n",
        "# Getting the file information located in directory\n",
        "\n",
        "files = raw.filenames # getting the names of the files \n",
        "\n",
        "target = raw.target # labels for the video files\n",
        "\n",
        "# Splitting the data set into train and test\n",
        "\n",
        "train_files,test_files,train_targets,test_targets = train_test_split(files,target,test_size=(0.2),random_state=42)\n",
        "\n",
        "print('Total Files are : ',len(files))\n",
        "\n",
        "print('Total targets  are : ',len(target))\n",
        "\n",
        "print('Train files size : ',train_files.shape[0])\n",
        "print('Train targets size : ',train_targets.shape[0])\n",
        "print('Test file(s) size : ',test_files.shape[0])\n",
        "print('Test tragets size : ',test_targets.shape[0])"
      ]
    },
    {
      "cell_type": "code",
      "execution_count": null,
      "metadata": {
        "colab": {
          "base_uri": "https://localhost:8080/"
        },
        "id": "Ck5YdLSSAX7M",
        "outputId": "d5d468c4-0506-4f9f-8eda-c390c7066c6b"
      },
      "outputs": [
        {
          "data": {
            "text/plain": [
              "0    30\n",
              "1    30\n",
              "2    30\n",
              "3    30\n",
              "4    30\n",
              "5    30\n",
              "6    30\n",
              "7    30\n",
              "8    30\n",
              "9    30\n",
              "Name: labels, dtype: int64"
            ]
          },
          "execution_count": 53,
          "metadata": {},
          "output_type": "execute_result"
        }
      ],
      "source": [
        "df = pd.DataFrame(columns=['labels','label_nums'])\n",
        "labels=[]\n",
        "nums=[]\n",
        "for i in zip(raw.filenames,raw.target):\n",
        "  labels.append(i[0].rsplit('/',2)[1])\n",
        "  nums.append(i[1])\n",
        "\n",
        "from sklearn.preprocessing import LabelEncoder\n",
        "\n",
        "df['labels']=labels\n",
        "df['label_nums'] = nums\n",
        "\n",
        "df['labels'].value_counts()"
      ]
    },
    {
      "cell_type": "code",
      "execution_count": null,
      "metadata": {
        "colab": {
          "base_uri": "https://localhost:8080/",
          "height": 348
        },
        "id": "_0pBuezGWR_Z",
        "outputId": "640c77ca-93b9-4004-a227-ae8a031c6ceb"
      },
      "outputs": [
        {
          "data": {
            "image/png": "[encoded data removed]",
            "text/plain": [
              "<Figure size 720x360 with 1 Axes>"
            ]
          },
          "metadata": {},
          "output_type": "display_data"
        }
      ],
      "source": [
        "import seaborn as sns\n",
        "plt.figure(figsize=(10,5))\n",
        "ax = sns.barplot(y=df['labels'].value_counts().values,x=df['labels'].value_counts().index)\n",
        "for i in ax.patches:\n",
        "  ax.annotate(str(i.get_height()),(i.get_x()*1.01,i.get_height()*1.01))\n",
        "plt.xticks(rotation=50,fontsize=15)\n",
        "plt.title('Frequency of the videos',fontsize=20)\n",
        "plt.show()"
      ]
    },
    {
      "cell_type": "markdown",
      "metadata": {
        "id": "ZPO3PBvdrGRQ"
      },
      "source": [
        "### Classification of the labels"
      ]
    },
    {
      "cell_type": "code",
      "execution_count": null,
      "metadata": {
        "colab": {
          "base_uri": "https://localhost:8080/"
        },
        "id": "K-M8SYJRrGRQ",
        "outputId": "66e60d63-613e-40ac-8881-3d1cae555c0c",
        "scrolled": false
      },
      "outputs": [
        {
          "name": "stdout",
          "output_type": "stream",
          "text": [
            "(0, '0')\n",
            "(1, '1')\n",
            "(2, '2')\n",
            "(3, '3')\n",
            "(4, '4')\n",
            "(5, '5')\n",
            "(6, '6')\n",
            "(7, '7')\n",
            "(8, '8')\n",
            "(9, '9')\n"
          ]
        }
      ],
      "source": [
        "# Categorical classification of the videos\n",
        "for i in zip(range(0,len(raw.target_names)),raw.target_names):\n",
        "    print(i)"
      ]
    },
    {
      "cell_type": "code",
      "execution_count": null,
      "metadata": {
        "colab": {
          "base_uri": "https://localhost:8080/"
        },
        "id": "Q7nOqlaOrGRR",
        "outputId": "1bca79e4-cbf1-4d30-e411-6d985e91f4fc"
      },
      "outputs": [
        {
          "data": {
            "text/plain": [
              "array([0, 0, 0, 0, 0, 0, 0, 0, 0, 0, 0, 0, 0, 0, 0, 0, 0, 0, 0, 0, 0, 0,\n",
              "       0, 0, 0, 0, 0, 0, 0, 0, 1, 1, 1, 1, 1, 1, 1, 1, 1, 1, 1, 1, 1, 1,\n",
              "       1, 1, 1, 1, 1, 1, 1, 1, 1, 1, 1, 1, 1, 1, 1, 1, 2, 2, 2, 2, 2, 2,\n",
              "       2, 2, 2, 2, 2, 2, 2, 2, 2, 2, 2, 2, 2, 2, 2, 2, 2, 2, 2, 2, 2, 2,\n",
              "       2, 2, 3, 3, 3, 3, 3, 3, 3, 3, 3, 3, 3, 3, 3, 3, 3, 3, 3, 3, 3, 3,\n",
              "       3, 3, 3, 3, 3, 3, 3, 3, 3, 3, 4, 4, 4, 4, 4, 4, 4, 4, 4, 4, 4, 4,\n",
              "       4, 4, 4, 4, 4, 4, 4, 4, 4, 4, 4, 4, 4, 4, 4, 4, 4, 4, 5, 5, 5, 5,\n",
              "       5, 5, 5, 5, 5, 5, 5, 5, 5, 5, 5, 5, 5, 5, 5, 5, 5, 5, 5, 5, 5, 5,\n",
              "       5, 5, 5, 5, 6, 6, 6, 6, 6, 6, 6, 6, 6, 6, 6, 6, 6, 6, 6, 6, 6, 6,\n",
              "       6, 6, 6, 6, 6, 6, 6, 6, 6, 6, 6, 6, 7, 7, 7, 7, 7, 7, 7, 7, 7, 7,\n",
              "       7, 7, 7, 7, 7, 7, 7, 7, 7, 7, 7, 7, 7, 7, 7, 7, 7, 7, 7, 7, 8, 8,\n",
              "       8, 8, 8, 8, 8, 8, 8, 8, 8, 8, 8, 8, 8, 8, 8, 8, 8, 8, 8, 8, 8, 8,\n",
              "       8, 8, 8, 8, 8, 8, 9, 9, 9, 9, 9, 9, 9, 9, 9, 9, 9, 9, 9, 9, 9, 9,\n",
              "       9, 9, 9, 9, 9, 9, 9, 9, 9, 9, 9, 9, 9, 9])"
            ]
          },
          "execution_count": 56,
          "metadata": {},
          "output_type": "execute_result"
        }
      ],
      "source": [
        "# Checking the target\n",
        "target # Here the numbers means the labels of the categories"
      ]
    },
    {
      "cell_type": "code",
      "execution_count": null,
      "metadata": {
        "colab": {
          "base_uri": "https://localhost:8080/"
        },
        "id": "8FCAm_OnrGRR",
        "outputId": "40570c28-4789-4cff-ac07-809ebfec7e20"
      },
      "outputs": [
        {
          "name": "stdout",
          "output_type": "stream",
          "text": [
            "Train files size :  200\n",
            "Train targets size :  200\n",
            "Validation file(s) size :  40\n",
            "Validation tragets size :  40\n",
            "Test file(s) size :  60\n",
            "Test tragets size :  60\n"
          ]
        }
      ],
      "source": [
        "# Splitting the train data for making the validation set\n",
        "valid_files = train_files[200:]\n",
        "valid_targets = train_targets[200:]\n",
        "train_files = train_files[:200]\n",
        "train_targets =  train_targets[:200]\n",
        "\n",
        "print('Train files size : ',train_files.shape[0])\n",
        "print('Train targets size : ',train_targets.shape[0])\n",
        "\n",
        "print('Validation file(s) size : ',valid_files.shape[0])\n",
        "print('Validation tragets size : ',valid_targets.shape[0])\n",
        "\n",
        "print('Test file(s) size : ',test_files.shape[0])\n",
        "print('Test tragets size : ',test_targets.shape[0])"
      ]
    },
    {
      "cell_type": "code",
      "execution_count": null,
      "metadata": {
        "colab": {
          "base_uri": "https://localhost:8080/"
        },
        "id": "zTAHwUkSzg4y",
        "outputId": "bc39c35f-1dcf-4d3b-bdf0-3917a5105d1b"
      },
      "outputs": [
        {
          "name": "stdout",
          "output_type": "stream",
          "text": [
            "Looking in indexes: https://pypi.org/simple, https://us-python.pkg.dev/colab-wheels/public/simple/\n",
            "Requirement already satisfied: sk-video in /usr/local/lib/python3.7/dist-packages (1.1.10)\n",
            "Requirement already satisfied: scipy in /usr/local/lib/python3.7/dist-packages (from sk-video) (1.7.3)\n",
            "Requirement already satisfied: numpy in /usr/local/lib/python3.7/dist-packages (from sk-video) (1.21.6)\n"
          ]
        }
      ],
      "source": [
        "pip install sk-video"
      ]
    },
    {
      "cell_type": "code",
      "execution_count": null,
      "metadata": {
        "id": "udyruNTM59nX"
      },
      "outputs": [],
      "source": [
        "from zmq.constants import CHANNEL\n",
        "import numpy as np\n",
        "from skvideo.io import FFmpegReader, ffprobe\n",
        "from skvideo.utils import rgb2gray\n",
        "from PIL import Image\n",
        "from keras.preprocessing import image\n",
        "from tqdm import tqdm\n",
        "\n",
        "\n",
        "class Videos(object):\n",
        "\n",
        "    def __init__(self, target_size=None, to_gray=True, max_frames=None,\n",
        "                 extract_frames='middle', required_fps=None,\n",
        "                 normalize_pixels=None):\n",
        "        \"\"\"\n",
        "        Initializing the config variables\n",
        "        Parameters:\n",
        "            target_size (tuple): (New_Width, New_Height), Default 'None'\n",
        "                A tuple denoting the target width and height of each frame in each of the video\n",
        "            to_gray (boolean): Default 'True'\n",
        "                If True, then each frame will be converted to gray scale. Otherwise, not.\n",
        "            max_frames (int): Default 'None'\n",
        "                The maximum number of frames to return for each video.\n",
        "                Extra frames are removed based on the value of 'extract_frames'.\n",
        "            extract_frames (str): {'first', 'middle', 'last'}, Default 'middle'\n",
        "                'first': Extract the first 'N' frames\n",
        "                'last': Extract the last 'N' frames\n",
        "                'middle': Extract 'N' frames from the middle\n",
        "                    Remove ((total_frames - max_frames) // 2) frames from the beginning as well as the end\n",
        "            required_fps (int): Default 'None'\n",
        "                Capture 'N' frame(s) per second from the video.\n",
        "                Only the first 'N' frame(s) for each second in the video are captured.\n",
        "            normalize_pixels (tuple/str): Default 'None'\n",
        "                If 'None', the pixels will not be normalized.\n",
        "                If a tuple - (New_min, New_max) is passed, Min-max Normalization will be used.\n",
        "                If the value is 'z-score', then Z-score Normalization will be used.\n",
        "                For each pixel p, z_score = (p - mean) / std\n",
        "        \"\"\"\n",
        "\n",
        "        self.target_size = target_size\n",
        "        self.to_gray = to_gray\n",
        "        self.max_frames = max_frames\n",
        "        self.extract_frames = extract_frames\n",
        "        self.required_fps = required_fps\n",
        "        self.normalize_pixels = normalize_pixels\n",
        "        self.fps = None\n",
        "\n",
        "    def read_videos(self, paths):\n",
        "        \"\"\"\n",
        "        Parameters:\n",
        "            paths (list): Required\n",
        "                 A list of paths of the videos to be read\n",
        "        Returns:\n",
        "            Numpy.ndarray\n",
        "                A 5-d tensor with shape (<No. of Videos>, <No. of frames>, <height>, <width>, <channels>)\n",
        "        \"\"\"\n",
        "\n",
        "        list_of_videos = [\n",
        "            self._read_video(path) for path in tqdm(paths)\n",
        "        ]\n",
        "\n",
        "        tensor = np.vstack(list_of_videos)\n",
        "\n",
        "        if self.normalize_pixels != None:\n",
        "            # Pixels are normalized for each video individually\n",
        "            if (type(self.normalize_pixels) == tuple) and (len(self.normalize_pixels) == 2):\n",
        "                base = self.normalize_pixels[0]\n",
        "                r = self.normalize_pixels[1] - base\n",
        "                min_ = np.min(tensor, axis=(1, 2, 3), keepdims=True)\n",
        "                max_ = np.max(tensor, axis=(1, 2, 3), keepdims=True)\n",
        "                return ((tensor.astype('float32') - min_) / (max_ - min_)) * r + base\n",
        "\n",
        "            elif self.normalize_pixels == 'z-score':\n",
        "                mean = np.mean(tensor, axis=(1, 2, 3), keepdims=True)\n",
        "                std = np.std(tensor, axis=(1, 2, 3), keepdims=True)\n",
        "                return (tensor.astype('float32') - mean) / std\n",
        "            \n",
        "            else:\n",
        "                raise ValueError('Invalid value of \\'normalize_pixels\\'')\n",
        "\n",
        "        return tensor\n",
        "\n",
        "    def get_frame_count(self, paths):\n",
        "        \"\"\"\n",
        "        Can be used to determine the value of `max_frames`\n",
        "        Parameters:\n",
        "            paths (list): Required\n",
        "                 A list of paths of the videos to be read\n",
        "        Returns:\n",
        "            dict (python dictionary)\n",
        "                For each video, the total number of frames in that video is stored in the dictionary.\n",
        "        \"\"\"\n",
        "\n",
        "        frame_count = {}\n",
        "        for path in paths:\n",
        "            cap = FFmpegReader(filename=path)\n",
        "            frame_count[path] = cap.inputframenum\n",
        "            cap.close()\n",
        "\n",
        "        return frame_count\n",
        "\n",
        "    def _read_video(self, path):\n",
        "        \"\"\"\n",
        "        Parameters:\n",
        "            path (str): Required\n",
        "                Path of the video to be read\n",
        "        Returns:\n",
        "            Numpy.ndarray\n",
        "                A 5-d tensor with shape (1, <No. of frames>, <height>, <width>, <channels>)\n",
        "        \"\"\"\n",
        "\n",
        "        cap = FFmpegReader(filename=path)\n",
        "        list_of_frames = []\n",
        "        self.fps = int(cap.inputfps)                  # Frame Rate\n",
        "\n",
        "        for index, frame in enumerate(cap.nextFrame()):\n",
        "\n",
        "            capture_frame = True\n",
        "            if self.required_fps != None:\n",
        "                is_valid = range(self.required_fps)\n",
        "                capture_frame = (index % self.fps) in is_valid\n",
        "\n",
        "            if capture_frame:\n",
        "                if self.target_size is not None:\n",
        "                    temp_image = array_to_img(frame)\n",
        "                    frame =img_to_array(\n",
        "                        temp_image.resize(\n",
        "                            self.target_size,\n",
        "                            Image.ANTIALIAS)).astype('uint8')\n",
        "\n",
        "                # Shape of each frame -> (<height>, <width>, 3)\n",
        "                list_of_frames.append(frame)\n",
        "\n",
        "        temp_video = np.stack(list_of_frames)\n",
        "        cap.close()\n",
        "\n",
        "        if self.to_gray:\n",
        "            temp_video = rgb2gray(temp_video)\n",
        "                \n",
        "        if self.max_frames is not None:\n",
        "            temp_video = self._process_video(video=temp_video)\n",
        "\n",
        "        return np.expand_dims(temp_video, axis=0)\n",
        "\n",
        "    def _process_video(self, video):\n",
        "        \"\"\"\n",
        "        Parameters:\n",
        "            video (Numpy.ndarray):\n",
        "                Shape = (<No. of frames>, <height>, <width>, <channels>)\n",
        "                Video whose frames are to be extracted\n",
        "        Returns:\n",
        "            Numpy.ndarray\n",
        "                A tensor (processed video) with shape (<`max_frames`>, <height>, <width>, <channels>)\n",
        "        \"\"\"\n",
        "\n",
        "        total_frames = video.shape[0]\n",
        "        if self.max_frames <= total_frames:\n",
        "\n",
        "            if self.extract_frames == 'first':\n",
        "                video = video[:self.max_frames]\n",
        "            elif self.extract_frames == 'last':\n",
        "                video = video[(total_frames - self.max_frames):]\n",
        "            elif self.extract_frames == 'middle':\n",
        "                # No. of frames to remove from the front\n",
        "                front = ((total_frames - self.max_frames) // 2) + 1    \n",
        "                video = video[front:(front + self.max_frames)]\n",
        "            else:\n",
        "                raise ValueError('Invalid value of \\'extract_frames\\'')\n",
        "\n",
        "        else:\n",
        "            raise IndexError(\n",
        "                'Required number of frames is greater than the total number of frames in the video')\n",
        "\n",
        "        return video"
      ]
    },
    {
      "cell_type": "code",
      "execution_count": null,
      "metadata": {
        "colab": {
          "base_uri": "https://localhost:8080/",
          "height": 397
        },
        "id": "MkzQlDAirGRS",
        "outputId": "ff9f1f22-b28a-4fb1-93e7-44dcbbae267f",
        "scrolled": false
      },
      "outputs": [
        {
          "name": "stderr",
          "output_type": "stream",
          "text": [
            "100%|██████████| 1/1 [00:00<00:00,  3.42it/s]"
          ]
        },
        {
          "name": "stdout",
          "output_type": "stream",
          "text": [
            "Sample : \n",
            "\n",
            "Number of videos : 1\n",
            "Frames for each video :  20\n",
            "Dimensions of the frame  height x width:  (144, 176)\n",
            "Colors in the image : 3\n"
          ]
        },
        {
          "name": "stderr",
          "output_type": "stream",
          "text": [
            "\n"
          ]
        },
        {
          "data": {
            "image/png": "[encoded data removed]",
            "text/plain": [
              "<Figure size 432x288 with 1 Axes>"
            ]
          },
          "metadata": {},
          "output_type": "display_data"
        }
      ],
      "source": [
        "# Making the sample and checking the video \n",
        "sample_files = train_files[:1]\n",
        "\n",
        "reader = Videos(target_size=None,to_gray=False,max_frames=20)\n",
        "\n",
        "sample = reader.read_videos(sample_files)\n",
        "\n",
        "print(\"Sample : \\n\")\n",
        "print('Number of videos :',sample.shape[0])\n",
        "print('Frames for each video : ',sample.shape[1])\n",
        "print('Dimensions of the frame  height x width: ',(sample.shape[2],sample.shape[3]))\n",
        "print('Colors in the image :',sample.shape[-1])\n",
        "\n",
        "plt.imshow(sample[0][3])\n",
        "plt.show()"
      ]
    },
    {
      "cell_type": "markdown",
      "metadata": {
        "id": "oUrPx9aSrGRS"
      },
      "source": [
        "## Data Preprocessing"
      ]
    },
    {
      "cell_type": "markdown",
      "metadata": {
        "id": "Q_3qcWbNrGRV"
      },
      "source": [
        "### Traininng Dataset\n"
      ]
    },
    {
      "cell_type": "code",
      "execution_count": null,
      "metadata": {
        "colab": {
          "base_uri": "https://localhost:8080/"
        },
        "id": "voYGJwCkrGRW",
        "outputId": "4bdaafee-a502-4a39-ad63-5b5ef4e0dae4",
        "scrolled": true
      },
      "outputs": [
        {
          "name": "stderr",
          "output_type": "stream",
          "text": [
            "100%|██████████| 200/200 [01:14<00:00,  2.69it/s]\n"
          ]
        },
        {
          "name": "stdout",
          "output_type": "stream",
          "text": [
            "Created tensors for the training successfully!!\n"
          ]
        }
      ],
      "source": [
        "# Training\n",
        "reader = Videos(target_size=(224,224), \n",
        "                to_gray=False, \n",
        "                max_frames=14, \n",
        "                extract_frames='middle', \n",
        "                required_fps=5, \n",
        "                normalize_pixels=(-1, 1))       \n",
        "\n",
        "\n",
        "# Converting the training data videos into tensors\n",
        "x_train = reader.read_videos(train_files)\n",
        "\n",
        "print('Created tensors for the training successfully!!')"
      ]
    },
    {
      "cell_type": "code",
      "execution_count": null,
      "metadata": {
        "colab": {
          "base_uri": "https://localhost:8080/"
        },
        "id": "7uW_k_7vrGRY",
        "outputId": "68cf4a8f-0fc7-4a37-8a8c-b97bda7ef16c"
      },
      "outputs": [
        {
          "name": "stdout",
          "output_type": "stream",
          "text": [
            "Training Set : \n",
            "\n",
            "Number of videos : 200\n",
            "Frames for each video :  14\n",
            "Dimensions of the frame  height x width:  (224, 224)\n",
            "Colors in the image : 3\n"
          ]
        }
      ],
      "source": [
        "print(\"Training Set : \\n\")\n",
        "print('Number of videos :',x_train.shape[0])\n",
        "print('Frames for each video : ',x_train.shape[1])\n",
        "print('Dimensions of the frame  height x width: ',(x_train.shape[2],x_train.shape[3]))\n",
        "print('Colors in the image :',x_train.shape[-1])"
      ]
    },
    {
      "cell_type": "code",
      "execution_count": null,
      "metadata": {
        "id": "4m-zpUBz7Ppx"
      },
      "outputs": [],
      "source": []
    },
    {
      "cell_type": "code",
      "execution_count": null,
      "metadata": {
        "id": "mkydJSZlrGRY"
      },
      "outputs": [],
      "source": [
        "from keras.utils import to_categorical\n",
        "\n",
        "# Removing the videos which gave the errors on the frame conversion\n",
        "\n",
        "y_train = to_categorical(train_targets)"
      ]
    },
    {
      "cell_type": "code",
      "execution_count": null,
      "metadata": {
        "colab": {
          "base_uri": "https://localhost:8080/"
        },
        "id": "xj4VLd2ZrGRZ",
        "outputId": "ff7243f1-c3d3-4f6d-d499-fcfa96a6c65b"
      },
      "outputs": [
        {
          "name": "stdout",
          "output_type": "stream",
          "text": [
            "[[0. 0. 0. 0. 0. 0. 0. 1. 0. 0.]\n",
            " [0. 1. 0. 0. 0. 0. 0. 0. 0. 0.]\n",
            " [1. 0. 0. 0. 0. 0. 0. 0. 0. 0.]] [7 1 0]\n",
            "Shape of the Y-train : (200, 10)\n"
          ]
        }
      ],
      "source": [
        "print(y_train[:3],train_targets[:3])\n",
        "\n",
        "print('Shape of the Y-train :',y_train.shape)"
      ]
    },
    {
      "cell_type": "markdown",
      "metadata": {
        "id": "Q0gXprd5rGRZ"
      },
      "source": [
        "### Validation set"
      ]
    },
    {
      "cell_type": "code",
      "execution_count": null,
      "metadata": {
        "colab": {
          "base_uri": "https://localhost:8080/"
        },
        "id": "L4W1OFV7rGRZ",
        "outputId": "3264fa8c-5eb8-40ed-a213-f9976aa900fb"
      },
      "outputs": [
        {
          "name": "stderr",
          "output_type": "stream",
          "text": [
            "100%|██████████| 40/40 [00:13<00:00,  2.96it/s]\n"
          ]
        },
        {
          "name": "stdout",
          "output_type": "stream",
          "text": [
            "\n",
            "Created tensors for the validation successfully!!\n"
          ]
        }
      ],
      "source": [
        "x_valid = reader.read_videos(valid_files)\n",
        "print()\n",
        "print('Created tensors for the validation successfully!!')"
      ]
    },
    {
      "cell_type": "code",
      "execution_count": null,
      "metadata": {
        "colab": {
          "base_uri": "https://localhost:8080/"
        },
        "id": "qWtfZF1OrGRZ",
        "outputId": "7bdc8b41-7442-474a-80fd-6671bae98b49"
      },
      "outputs": [
        {
          "name": "stdout",
          "output_type": "stream",
          "text": [
            "Validation Set : \n",
            "\n",
            "Number of videos : 40\n",
            "Frames for each video : 14\n",
            "Dimensions of the frame  height x width: (224, 224)\n",
            "Colors in the image : 3\n"
          ]
        }
      ],
      "source": [
        "print(\"Validation Set : \\n\")\n",
        "print('Number of videos :',x_valid.shape[0])\n",
        "print('Frames for each video :',x_valid.shape[1])\n",
        "print('Dimensions of the frame  height x width:',(x_valid.shape[2],x_valid.shape[3]))\n",
        "print('Colors in the image :',x_valid.shape[-1])"
      ]
    },
    {
      "cell_type": "code",
      "execution_count": null,
      "metadata": {
        "colab": {
          "base_uri": "https://localhost:8080/"
        },
        "id": "BYelwRaVK9Ji",
        "outputId": "059ac3fa-1ba3-4201-ebde-2d41c9ec501a"
      },
      "outputs": [
        {
          "data": {
            "text/plain": [
              "(array(['/content/drive/MyDrive/videos/3/-2f7n5RNe-Q.mp4',\n",
              "        '/content/drive/MyDrive/videos/1/0OVjM9WYX7U.mp4',\n",
              "        '/content/drive/MyDrive/videos/8/-3xIiWHYntU.mp4',\n",
              "        '/content/drive/MyDrive/videos/0/03LexUfuweY.mp4',\n",
              "        '/content/drive/MyDrive/videos/2/0UikhkRfKJU.mp4',\n",
              "        '/content/drive/MyDrive/videos/5/-cVVZilz84E.mp4',\n",
              "        '/content/drive/MyDrive/videos/9/0gk7bMlB2EY.mp4',\n",
              "        '/content/drive/MyDrive/videos/4/09_k1eXA-U8.mp4',\n",
              "        '/content/drive/MyDrive/videos/9/0Nhl-MOqbAg.mp4',\n",
              "        '/content/drive/MyDrive/videos/8/-6wJNL8d5jA.mp4',\n",
              "        '/content/drive/MyDrive/videos/1/0WaOzOgL1l4.mp4',\n",
              "        '/content/drive/MyDrive/videos/1/0GrHY5kiJuU.mp4',\n",
              "        '/content/drive/MyDrive/videos/5/07eq1ZyNg_U.mp4',\n",
              "        '/content/drive/MyDrive/videos/6/-iDkg_goNbs.mp4',\n",
              "        '/content/drive/MyDrive/videos/9/0nL-oCzLfpw.mp4',\n",
              "        '/content/drive/MyDrive/videos/6/-hO6M87D6iA.mp4',\n",
              "        '/content/drive/MyDrive/videos/5/-xsG5SRE6YM.mp4',\n",
              "        '/content/drive/MyDrive/videos/1/0mw6X8feZe8.mp4',\n",
              "        '/content/drive/MyDrive/videos/1/08i4WPjkncY.mp4',\n",
              "        '/content/drive/MyDrive/videos/7/0Hv8j33iHpU.mp4',\n",
              "        '/content/drive/MyDrive/videos/8/-omuki3cTaA.mp4',\n",
              "        '/content/drive/MyDrive/videos/0/0EojNazUJ9U.mp4',\n",
              "        '/content/drive/MyDrive/videos/5/-KW8ptQGGXM.mp4',\n",
              "        '/content/drive/MyDrive/videos/9/-a3UohTW8Rw.mp4',\n",
              "        '/content/drive/MyDrive/videos/6/04BUUKl_QYA.mp4',\n",
              "        '/content/drive/MyDrive/videos/8/0FU-F6iylZs.mp4',\n",
              "        '/content/drive/MyDrive/videos/4/12la0850LX8.mp4',\n",
              "        '/content/drive/MyDrive/videos/4/-j1vjISEjps.mp4',\n",
              "        '/content/drive/MyDrive/videos/5/-3pjDfx73Aw.mp4',\n",
              "        '/content/drive/MyDrive/videos/3/-a8fUUZyEIA.mp4',\n",
              "        '/content/drive/MyDrive/videos/2/0MXqUNawrho.mp4',\n",
              "        '/content/drive/MyDrive/videos/7/-ANkdsCRYUA.mp4',\n",
              "        '/content/drive/MyDrive/videos/4/-6OwOoj4opA.mp4',\n",
              "        '/content/drive/MyDrive/videos/9/0tMHhSwoZPg.mp4',\n",
              "        '/content/drive/MyDrive/videos/0/0EkwOZ7nesY.mp4',\n",
              "        '/content/drive/MyDrive/videos/6/-hSkp-MmyZY.mp4',\n",
              "        '/content/drive/MyDrive/videos/2/-GU00Yxwafc.mp4',\n",
              "        '/content/drive/MyDrive/videos/3/-p_w4ZZpVh4.mp4',\n",
              "        '/content/drive/MyDrive/videos/9/-12MxdP5uVo.mp4',\n",
              "        '/content/drive/MyDrive/videos/3/-iAmatz-x9Q.mp4'], dtype='<U47'),\n",
              " array([3, 1, 8, 0, 2, 5, 9, 4, 9, 8, 1, 1, 5, 6, 9, 6, 5, 1, 1, 7, 8, 0,\n",
              "        5, 9, 6, 8, 4, 4, 5, 3, 2, 7, 4, 9, 0, 6, 2, 3, 9, 3]))"
            ]
          },
          "execution_count": 67,
          "metadata": {},
          "output_type": "execute_result"
        }
      ],
      "source": [
        "valid_files,valid_targets"
      ]
    },
    {
      "cell_type": "code",
      "execution_count": null,
      "metadata": {
        "colab": {
          "base_uri": "https://localhost:8080/"
        },
        "id": "zwRRU56wMNa4",
        "outputId": "cb832087-8776-49b3-b6f2-1274a93fbea2"
      },
      "outputs": [
        {
          "data": {
            "text/plain": [
              "(array([[0., 0., 0., 1., 0., 0., 0., 0., 0., 0.],\n",
              "        [0., 1., 0., 0., 0., 0., 0., 0., 0., 0.],\n",
              "        [0., 0., 0., 0., 0., 0., 0., 0., 1., 0.],\n",
              "        [1., 0., 0., 0., 0., 0., 0., 0., 0., 0.],\n",
              "        [0., 0., 1., 0., 0., 0., 0., 0., 0., 0.],\n",
              "        [0., 0., 0., 0., 0., 1., 0., 0., 0., 0.],\n",
              "        [0., 0., 0., 0., 0., 0., 0., 0., 0., 1.],\n",
              "        [0., 0., 0., 0., 1., 0., 0., 0., 0., 0.],\n",
              "        [0., 0., 0., 0., 0., 0., 0., 0., 0., 1.],\n",
              "        [0., 0., 0., 0., 0., 0., 0., 0., 1., 0.],\n",
              "        [0., 1., 0., 0., 0., 0., 0., 0., 0., 0.],\n",
              "        [0., 1., 0., 0., 0., 0., 0., 0., 0., 0.],\n",
              "        [0., 0., 0., 0., 0., 1., 0., 0., 0., 0.],\n",
              "        [0., 0., 0., 0., 0., 0., 1., 0., 0., 0.],\n",
              "        [0., 0., 0., 0., 0., 0., 0., 0., 0., 1.],\n",
              "        [0., 0., 0., 0., 0., 0., 1., 0., 0., 0.],\n",
              "        [0., 0., 0., 0., 0., 1., 0., 0., 0., 0.],\n",
              "        [0., 1., 0., 0., 0., 0., 0., 0., 0., 0.],\n",
              "        [0., 1., 0., 0., 0., 0., 0., 0., 0., 0.],\n",
              "        [0., 0., 0., 0., 0., 0., 0., 1., 0., 0.],\n",
              "        [0., 0., 0., 0., 0., 0., 0., 0., 1., 0.],\n",
              "        [1., 0., 0., 0., 0., 0., 0., 0., 0., 0.],\n",
              "        [0., 0., 0., 0., 0., 1., 0., 0., 0., 0.],\n",
              "        [0., 0., 0., 0., 0., 0., 0., 0., 0., 1.],\n",
              "        [0., 0., 0., 0., 0., 0., 1., 0., 0., 0.],\n",
              "        [0., 0., 0., 0., 0., 0., 0., 0., 1., 0.],\n",
              "        [0., 0., 0., 0., 1., 0., 0., 0., 0., 0.],\n",
              "        [0., 0., 0., 0., 1., 0., 0., 0., 0., 0.],\n",
              "        [0., 0., 0., 0., 0., 1., 0., 0., 0., 0.],\n",
              "        [0., 0., 0., 1., 0., 0., 0., 0., 0., 0.],\n",
              "        [0., 0., 1., 0., 0., 0., 0., 0., 0., 0.],\n",
              "        [0., 0., 0., 0., 0., 0., 0., 1., 0., 0.],\n",
              "        [0., 0., 0., 0., 1., 0., 0., 0., 0., 0.],\n",
              "        [0., 0., 0., 0., 0., 0., 0., 0., 0., 1.],\n",
              "        [1., 0., 0., 0., 0., 0., 0., 0., 0., 0.],\n",
              "        [0., 0., 0., 0., 0., 0., 1., 0., 0., 0.],\n",
              "        [0., 0., 1., 0., 0., 0., 0., 0., 0., 0.],\n",
              "        [0., 0., 0., 1., 0., 0., 0., 0., 0., 0.],\n",
              "        [0., 0., 0., 0., 0., 0., 0., 0., 0., 1.],\n",
              "        [0., 0., 0., 1., 0., 0., 0., 0., 0., 0.]], dtype=float32),\n",
              " array([3, 1, 8, 0, 2, 5, 9, 4, 9, 8, 1, 1, 5, 6, 9, 6, 5, 1, 1, 7, 8, 0,\n",
              "        5, 9, 6, 8, 4, 4, 5, 3, 2, 7, 4, 9, 0, 6, 2, 3, 9, 3]))"
            ]
          },
          "execution_count": 68,
          "metadata": {},
          "output_type": "execute_result"
        }
      ],
      "source": [
        "y_valid = to_categorical(valid_targets)\n",
        "\n",
        "y_valid,valid_targets"
      ]
    },
    {
      "cell_type": "code",
      "execution_count": null,
      "metadata": {
        "colab": {
          "base_uri": "https://localhost:8080/"
        },
        "id": "kTPksgJdI2QX",
        "outputId": "6576e8b4-3077-40e9-e76e-74e367ed6106"
      },
      "outputs": [
        {
          "data": {
            "text/plain": [
              "(40, 10)"
            ]
          },
          "execution_count": 69,
          "metadata": {},
          "output_type": "execute_result"
        }
      ],
      "source": [
        "y_valid.shape"
      ]
    },
    {
      "cell_type": "markdown",
      "metadata": {
        "id": "KuLD-GTaDJ8N"
      },
      "source": [
        "# model"
      ]
    },
    {
      "cell_type": "code",
      "execution_count": null,
      "metadata": {
        "colab": {
          "base_uri": "https://localhost:8080/"
        },
        "id": "Weqpqr7ADO06",
        "outputId": "b0540403-faf4-40ab-f825-cfe121955656"
      },
      "outputs": [
        {
          "data": {
            "text/plain": [
              "(200, 14, 224, 224, 3)"
            ]
          },
          "execution_count": 70,
          "metadata": {},
          "output_type": "execute_result"
        }
      ],
      "source": [
        "x_train.shape"
      ]
    },
    {
      "cell_type": "code",
      "execution_count": null,
      "metadata": {
        "id": "kzrVLu6ADOwj"
      },
      "outputs": [],
      "source": [
        "\n",
        "import keras\n",
        "from keras.models import Sequential\n",
        "from keras.applications.vgg16 import VGG16\n",
        "from keras.layers import Dense, InputLayer, Dropout, Flatten,GRU,Input\n",
        "from keras.layers import Conv2D, MaxPooling2D, GlobalMaxPooling2D,TimeDistributed,MaxPool2D,AveragePooling2D\n",
        "from keras.preprocessing import image\n",
        "import numpy as np\n",
        "import pandas as pd\n",
        "import matplotlib.pyplot as plt\n",
        "from tqdm import tqdm\n",
        "from sklearn.model_selection import train_test_split\n",
        "from keras.applications import ResNet50,VGG16\n",
        "from keras.models import Model"
      ]
    },
    {
      "cell_type": "code",
      "execution_count": null,
      "metadata": {
        "id": "wZfOaw-82uXZ"
      },
      "outputs": [],
      "source": []
    },
    {
      "cell_type": "markdown",
      "metadata": {
        "id": "V95xl1q-TtbR"
      },
      "source": []
    },
    {
      "cell_type": "code",
      "execution_count": null,
      "metadata": {
        "colab": {
          "background_save": true
        },
        "id": "iEX2Bjym8Ew2"
      },
      "outputs": [],
      "source": [
        "# initialize the training data augmentation object\n",
        "trainAug = ImageDataGenerator(\n",
        "\trotation_range=30,\n",
        "\tzoom_range=0.15,\n",
        "\twidth_shift_range=0.2,\n",
        "\theight_shift_range=0.2,\n",
        "\tshear_range=0.15,\n",
        "\thorizontal_flip=True,\n",
        "\tfill_mode=\"nearest\")\n",
        "# initialize the validation/testing data augmentation object (which\n",
        "# we'll be adding mean subtraction to)\n",
        "valAug = ImageDataGenerator()\n",
        "# define the ImageNet mean subtraction (in RGB order) and set the\n",
        "# the mean subtraction value for each of the data augmentation\n",
        "# objects\n",
        "mean = np.array([123.68, 116.779, 103.939], dtype=\"float32\")\n",
        "trainAug.mean = mean\n",
        "valAug.mean = mean"
      ]
    },
    {
      "cell_type": "code",
      "execution_count": null,
      "metadata": {
        "id": "XFb5a5nU76Ao"
      },
      "outputs": [],
      "source": [
        "# load the ResNet-50 network, ensuring the head FC layer sets are left\n",
        "# off\n",
        "baseModel = ResNet50(weights=\"imagenet\", include_top=False,\n",
        "\tinput_tensor=Input(shape=(224, 224, 3)))\n",
        "# construct the head of the model that will be placed on top of the\n",
        "# the base model\n",
        "headModel = baseModel.output\n",
        "headModel = AveragePooling2D(pool_size=(7, 7))(headModel)\n",
        "headModel = Flatten(name=\"flatten\")(headModel)\n",
        "headModel = Dense(512, activation=\"relu\")(headModel)\n",
        "headModel = Dropout(0.5)(headModel)\n",
        "headModel = Dense(10, activation=\"softmax\")(headModel)\n",
        "# place the head FC model on top of the base model (this will become\n",
        "# the actual model we will train)\n",
        "model = Model(inputs=baseModel.input, outputs=headModel)\n",
        "# loop over all layers in the base model and freeze them so they will\n",
        "# *not* be updated during the training process\n",
        "for layer in baseModel.layers:\n",
        "\tlayer.trainable = False"
      ]
    },
    {
      "cell_type": "code",
      "execution_count": null,
      "metadata": {
        "colab": {
          "base_uri": "https://localhost:8080/",
          "height": 451
        },
        "id": "ZO3UJ1GDqfvL",
        "outputId": "918a87fa-56d6-494a-81f9-f744251ff39b"
      },
      "outputs": [
        {
          "name": "stdout",
          "output_type": "stream",
          "text": [
            "[INFO] compiling model...\n",
            "[INFO] training head...\n"
          ]
        },
        {
          "ename": "ValueError",
          "evalue": "ignored",
          "output_type": "error",
          "traceback": [
            "\u001b[0;31m---------------------------------------------------------------------------\u001b[0m",
            "\u001b[0;31mValueError\u001b[0m                                Traceback (most recent call last)",
            "\u001b[0;32m<ipython-input-75-215aac54c00e>\u001b[0m in \u001b[0;36m<module>\u001b[0;34m\u001b[0m\n\u001b[1;32m     10\u001b[0m \u001b[0mprint\u001b[0m\u001b[0;34m(\u001b[0m\u001b[0;34m\"[INFO] training head...\"\u001b[0m\u001b[0;34m)\u001b[0m\u001b[0;34m\u001b[0m\u001b[0;34m\u001b[0m\u001b[0m\n\u001b[1;32m     11\u001b[0m H = model.fit(\n\u001b[0;32m---> 12\u001b[0;31m         \u001b[0mx\u001b[0m\u001b[0;34m=\u001b[0m\u001b[0mtrainAug\u001b[0m\u001b[0;34m.\u001b[0m\u001b[0mflow\u001b[0m\u001b[0;34m(\u001b[0m\u001b[0mx_train\u001b[0m\u001b[0;34m,\u001b[0m \u001b[0my_train\u001b[0m\u001b[0;34m,\u001b[0m \u001b[0mbatch_size\u001b[0m\u001b[0;34m=\u001b[0m\u001b[0;36m32\u001b[0m\u001b[0;34m)\u001b[0m\u001b[0;34m,\u001b[0m\u001b[0;34m\u001b[0m\u001b[0;34m\u001b[0m\u001b[0m\n\u001b[0m\u001b[1;32m     13\u001b[0m         \u001b[0msteps_per_epoch\u001b[0m\u001b[0;34m=\u001b[0m\u001b[0mlen\u001b[0m\u001b[0;34m(\u001b[0m\u001b[0mx_train\u001b[0m\u001b[0;34m)\u001b[0m \u001b[0;34m//\u001b[0m \u001b[0;36m32\u001b[0m\u001b[0;34m,\u001b[0m\u001b[0;34m\u001b[0m\u001b[0;34m\u001b[0m\u001b[0m\n\u001b[1;32m     14\u001b[0m         \u001b[0mvalidation_data\u001b[0m\u001b[0;34m=\u001b[0m\u001b[0mvalAug\u001b[0m\u001b[0;34m.\u001b[0m\u001b[0mflow\u001b[0m\u001b[0;34m(\u001b[0m\u001b[0mx_valid\u001b[0m\u001b[0;34m,\u001b[0m \u001b[0my_valid\u001b[0m\u001b[0;34m)\u001b[0m\u001b[0;34m,\u001b[0m\u001b[0;34m\u001b[0m\u001b[0;34m\u001b[0m\u001b[0m\n",
            "\u001b[0;32m/usr/local/lib/python3.7/dist-packages/keras/preprocessing/image.py\u001b[0m in \u001b[0;36mflow\u001b[0;34m(self, x, y, batch_size, shuffle, sample_weight, seed, save_to_dir, save_prefix, save_format, ignore_class_split, subset)\u001b[0m\n\u001b[1;32m   1382\u001b[0m         \u001b[0mignore_class_split\u001b[0m\u001b[0;34m=\u001b[0m\u001b[0mignore_class_split\u001b[0m\u001b[0;34m,\u001b[0m\u001b[0;34m\u001b[0m\u001b[0;34m\u001b[0m\u001b[0m\n\u001b[1;32m   1383\u001b[0m         \u001b[0msubset\u001b[0m\u001b[0;34m=\u001b[0m\u001b[0msubset\u001b[0m\u001b[0;34m,\u001b[0m\u001b[0;34m\u001b[0m\u001b[0;34m\u001b[0m\u001b[0m\n\u001b[0;32m-> 1384\u001b[0;31m         dtype=self.dtype)\n\u001b[0m\u001b[1;32m   1385\u001b[0m \u001b[0;34m\u001b[0m\u001b[0m\n\u001b[1;32m   1386\u001b[0m   def flow_from_directory(self,\n",
            "\u001b[0;32m/usr/local/lib/python3.7/dist-packages/keras/preprocessing/image.py\u001b[0m in \u001b[0;36m__init__\u001b[0;34m(self, x, y, image_data_generator, batch_size, shuffle, sample_weight, seed, data_format, save_to_dir, save_prefix, save_format, subset, ignore_class_split, dtype)\u001b[0m\n\u001b[1;32m    675\u001b[0m           \u001b[0;34m'Input data in `NumpyArrayIterator` '\u001b[0m\u001b[0;34m\u001b[0m\u001b[0;34m\u001b[0m\u001b[0m\n\u001b[1;32m    676\u001b[0m           \u001b[0;34m'should have rank 4. You passed an array '\u001b[0m\u001b[0;34m\u001b[0m\u001b[0;34m\u001b[0m\u001b[0m\n\u001b[0;32m--> 677\u001b[0;31m           'with shape', self.x.shape)\n\u001b[0m\u001b[1;32m    678\u001b[0m     \u001b[0mchannels_axis\u001b[0m \u001b[0;34m=\u001b[0m \u001b[0;36m3\u001b[0m \u001b[0;32mif\u001b[0m \u001b[0mdata_format\u001b[0m \u001b[0;34m==\u001b[0m \u001b[0;34m'channels_last'\u001b[0m \u001b[0;32melse\u001b[0m \u001b[0;36m1\u001b[0m\u001b[0;34m\u001b[0m\u001b[0;34m\u001b[0m\u001b[0m\n\u001b[1;32m    679\u001b[0m     \u001b[0;32mif\u001b[0m \u001b[0mself\u001b[0m\u001b[0;34m.\u001b[0m\u001b[0mx\u001b[0m\u001b[0;34m.\u001b[0m\u001b[0mshape\u001b[0m\u001b[0;34m[\u001b[0m\u001b[0mchannels_axis\u001b[0m\u001b[0;34m]\u001b[0m \u001b[0;32mnot\u001b[0m \u001b[0;32min\u001b[0m \u001b[0;34m{\u001b[0m\u001b[0;36m1\u001b[0m\u001b[0;34m,\u001b[0m \u001b[0;36m3\u001b[0m\u001b[0;34m,\u001b[0m \u001b[0;36m4\u001b[0m\u001b[0;34m}\u001b[0m\u001b[0;34m:\u001b[0m\u001b[0;34m\u001b[0m\u001b[0;34m\u001b[0m\u001b[0m\n",
            "\u001b[0;31mValueError\u001b[0m: ('Input data in `NumpyArrayIterator` should have rank 4. You passed an array with shape', (200, 14, 224, 224, 3))"
          ]
        }
      ],
      "source": [
        "# compile our model (this needs to be done after our setting our\n",
        "# layers to being non-trainable)\n",
        "print(\"[INFO] compiling model...\")\n",
        "opt = tf.optimizers.SGD(lr=1e-4, momentum=0.9)\n",
        "model.compile(loss=\"sparse_categorical_crossentropy\", optimizer=opt,\n",
        "\tmetrics=[\"accuracy\"])\n",
        "# train the head of the network for a few epochs (all other layers\n",
        "# are frozen) -- this will allow the new FC layers to start to become\n",
        "# initialized with actual \"learned\" values versus pure random\n",
        "print(\"[INFO] training head...\")\n",
        "H = model.fit(\n",
        "\tx=trainAug.flow(x_train, y_train, batch_size=32),\n",
        "\tsteps_per_epoch=len(x_train) // 32,\n",
        "\tvalidation_data=valAug.flow(x_valid, y_valid),\n",
        "\tvalidation_steps=len(x_valid) // 32,\n",
        "\tepochs=20)"
      ]
    },
    {
      "cell_type": "code",
      "execution_count": null,
      "metadata": {
        "id": "eViXV7GMvgT3"
      },
      "outputs": [],
      "source": []
    },
    {
      "cell_type": "code",
      "execution_count": null,
      "metadata": {
        "id": "VZgpWMCovgRm"
      },
      "outputs": [],
      "source": []
    },
    {
      "cell_type": "code",
      "execution_count": null,
      "metadata": {
        "id": "xMsrRJ9EvgCW"
      },
      "outputs": [],
      "source": []
    },
    {
      "cell_type": "code",
      "execution_count": null,
      "metadata": {
        "id": "AixcgmdLvgAj"
      },
      "outputs": [],
      "source": []
    },
    {
      "cell_type": "code",
      "execution_count": null,
      "metadata": {
        "id": "e_uaVSC8vf-q"
      },
      "outputs": [],
      "source": []
    },
    {
      "cell_type": "code",
      "execution_count": null,
      "metadata": {
        "id": "o-pYrB33qfqL"
      },
      "outputs": [],
      "source": []
    },
    {
      "cell_type": "code",
      "execution_count": null,
      "metadata": {
        "id": "XfCEpNoBqflx"
      },
      "outputs": [],
      "source": []
    },
    {
      "cell_type": "code",
      "execution_count": null,
      "metadata": {
        "id": "HbaGUHHpDOYd"
      },
      "outputs": [],
      "source": [
        "model = Sequential()\n",
        "# input, with 64 convolutions for 5 images\n",
        "# that have (224, 224, 3) shape\n",
        "model.add(\n",
        "    TimeDistributed(\n",
        "        Conv2D(64, (3,3), \n",
        "            padding='same', strides=(2,2), activation='relu')\n",
        "        ,input_shape = (14, 128, 128, 3)\n",
        "    )\n",
        ")\n",
        "model.add(Dropout(0.5))\n",
        "\n",
        "model.add(\n",
        "    TimeDistributed( \n",
        "        Conv2D(64, (3,3), \n",
        "            padding='same', strides=(2,2), activation='relu')\n",
        "    )\n",
        ")\n",
        "model.add(Dropout(0.5))\n",
        "\n",
        "model.add(\n",
        "    TimeDistributed(\n",
        "        MaxPooling2D((2,2), strides=(2,2))\n",
        "    )\n",
        ")\n",
        "# Second conv, 128\n",
        "model.add(\n",
        "    TimeDistributed(\n",
        "        Conv2D(128, (3,3),\n",
        "            padding='same', strides=(2,2), activation='relu')\n",
        "    )\n",
        ")\n",
        "model.add(Dropout(0.5))\n",
        "\n",
        "model.add(\n",
        "    TimeDistributed( \n",
        "        Conv2D(128, (3,3),\n",
        "            padding='same', strides=(2,2), activation='relu')\n",
        "    )\n",
        ")\n",
        "model.add(\n",
        "    TimeDistributed(\n",
        "        MaxPooling2D((2,2), strides=(2,2))\n",
        "    )\n",
        ")\n",
        "model.add(Flatten())\n",
        "model.add(Dense(10, activation='softmax'))\n"
      ]
    },
    {
      "cell_type": "code",
      "execution_count": null,
      "metadata": {
        "id": "x0OhEvMFWKET"
      },
      "outputs": [],
      "source": [
        "# initialize the training data augmentation object\n",
        "trainAug = ImageDataGenerator(\n",
        "\trotation_range=30,\n",
        "\tzoom_range=0.15,\n",
        "\twidth_shift_range=0.2,\n",
        "\theight_shift_range=0.2,\n",
        "\tshear_range=0.15,\n",
        "\thorizontal_flip=True,\n",
        "\tfill_mode=\"nearest\")\n",
        "# initialize the validation/testing data augmentation object (which\n",
        "# we'll be adding mean subtraction to)\n",
        "valAug = ImageDataGenerator()\n",
        "# define the ImageNet mean subtraction (in RGB order) and set the\n",
        "# the mean subtraction value for each of the data augmentation\n",
        "# objects\n",
        "mean = np.array([123.68, 116.779, 103.939], dtype=\"float32\")\n",
        "trainAug.mean = mean\n",
        "valAug.mean = mean"
      ]
    },
    {
      "cell_type": "code",
      "execution_count": null,
      "metadata": {
        "id": "mN2iulMyWJ1i"
      },
      "outputs": [],
      "source": []
    },
    {
      "cell_type": "code",
      "execution_count": null,
      "metadata": {
        "id": "d0L4R7QDYvE7"
      },
      "outputs": [],
      "source": [
        "\n",
        "#input and output\n",
        "x_train_Den = np.random.normal(size=(14,128,128,3))\n",
        "x_val = np.random.normal(size=(14,128,128,3))\n",
        "aug_y_train = tf.random.uniform((14, ), maxval=3, dtype=tf.int32)\n",
        "aug_y_valid = tf.random.uniform((14, ), maxval=3, dtype=tf.int32)\n",
        "datagen = tf.keras.preprocessing.image.ImageDataGenerator(\n",
        "    featurewise_center=True,\n",
        "    featurewise_std_normalization=True,\n",
        "    rotation_range=20,\n",
        "    width_shift_range=0.2,\n",
        "    height_shift_range=0.2,\n",
        "    horizontal_flip=True,\n",
        "    validation_split=0.2)\n",
        "datagen.fit(x_train_Den)\n",
        "datagen.fit(x_val)"
      ]
    },
    {
      "cell_type": "code",
      "execution_count": null,
      "metadata": {
        "id": "zK-j88pIIy8m"
      },
      "outputs": [],
      "source": [
        "model.compile('adam', loss= 'categorical_crossentropy',metrics='accuracy')"
      ]
    },
    {
      "cell_type": "code",
      "execution_count": null,
      "metadata": {
        "colab": {
          "base_uri": "https://localhost:8080/",
          "height": 836
        },
        "id": "Mu1Emr4xZ0VR",
        "outputId": "9e30618b-f301-4324-c773-571ba1d23473"
      },
      "outputs": [
        {
          "name": "stdout",
          "output_type": "stream",
          "text": [
            "Epoch 1/25\n"
          ]
        },
        {
          "name": "stderr",
          "output_type": "stream",
          "text": [
            "WARNING:tensorflow:Model was constructed with shape (None, 14, 128, 128, 3) for input KerasTensor(type_spec=TensorSpec(shape=(None, 14, 128, 128, 3), dtype=tf.float32, name='time_distributed_input'), name='time_distributed_input', description=\"created by layer 'time_distributed_input'\"), but it was called on an input with incompatible shape (None, None, None, None).\n"
          ]
        },
        {
          "ename": "ValueError",
          "evalue": "ignored",
          "output_type": "error",
          "traceback": [
            "\u001b[0;31m---------------------------------------------------------------------------\u001b[0m",
            "\u001b[0;31mValueError\u001b[0m                                Traceback (most recent call last)",
            "\u001b[0;32m<ipython-input-38-07beff4350ba>\u001b[0m in \u001b[0;36m<module>\u001b[0;34m\u001b[0m\n\u001b[1;32m      2\u001b[0m \u001b[0mepochs\u001b[0m\u001b[0;34m=\u001b[0m\u001b[0;36m25\u001b[0m\u001b[0;34m\u001b[0m\u001b[0;34m\u001b[0m\u001b[0m\n\u001b[1;32m      3\u001b[0m history = model.fit(datagen.flow(x_train_Den, aug_y_train, batch_size=batch_size),\n\u001b[0;32m----> 4\u001b[0;31m                      epochs=epochs,validation_data=(x_val,aug_y_valid))\n\u001b[0m",
            "\u001b[0;32m/usr/local/lib/python3.7/dist-packages/keras/utils/traceback_utils.py\u001b[0m in \u001b[0;36merror_handler\u001b[0;34m(*args, **kwargs)\u001b[0m\n\u001b[1;32m     65\u001b[0m     \u001b[0;32mexcept\u001b[0m \u001b[0mException\u001b[0m \u001b[0;32mas\u001b[0m \u001b[0me\u001b[0m\u001b[0;34m:\u001b[0m  \u001b[0;31m# pylint: disable=broad-except\u001b[0m\u001b[0;34m\u001b[0m\u001b[0;34m\u001b[0m\u001b[0m\n\u001b[1;32m     66\u001b[0m       \u001b[0mfiltered_tb\u001b[0m \u001b[0;34m=\u001b[0m \u001b[0m_process_traceback_frames\u001b[0m\u001b[0;34m(\u001b[0m\u001b[0me\u001b[0m\u001b[0;34m.\u001b[0m\u001b[0m__traceback__\u001b[0m\u001b[0;34m)\u001b[0m\u001b[0;34m\u001b[0m\u001b[0;34m\u001b[0m\u001b[0m\n\u001b[0;32m---> 67\u001b[0;31m       \u001b[0;32mraise\u001b[0m \u001b[0me\u001b[0m\u001b[0;34m.\u001b[0m\u001b[0mwith_traceback\u001b[0m\u001b[0;34m(\u001b[0m\u001b[0mfiltered_tb\u001b[0m\u001b[0;34m)\u001b[0m \u001b[0;32mfrom\u001b[0m \u001b[0;32mNone\u001b[0m\u001b[0;34m\u001b[0m\u001b[0;34m\u001b[0m\u001b[0m\n\u001b[0m\u001b[1;32m     68\u001b[0m     \u001b[0;32mfinally\u001b[0m\u001b[0;34m:\u001b[0m\u001b[0;34m\u001b[0m\u001b[0;34m\u001b[0m\u001b[0m\n\u001b[1;32m     69\u001b[0m       \u001b[0;32mdel\u001b[0m \u001b[0mfiltered_tb\u001b[0m\u001b[0;34m\u001b[0m\u001b[0;34m\u001b[0m\u001b[0m\n",
            "\u001b[0;32m/usr/local/lib/python3.7/dist-packages/keras/engine/training.py\u001b[0m in \u001b[0;36mtf__train_function\u001b[0;34m(iterator)\u001b[0m\n\u001b[1;32m     13\u001b[0m                 \u001b[0;32mtry\u001b[0m\u001b[0;34m:\u001b[0m\u001b[0;34m\u001b[0m\u001b[0;34m\u001b[0m\u001b[0m\n\u001b[1;32m     14\u001b[0m                     \u001b[0mdo_return\u001b[0m \u001b[0;34m=\u001b[0m \u001b[0;32mTrue\u001b[0m\u001b[0;34m\u001b[0m\u001b[0;34m\u001b[0m\u001b[0m\n\u001b[0;32m---> 15\u001b[0;31m                     \u001b[0mretval_\u001b[0m \u001b[0;34m=\u001b[0m \u001b[0mag__\u001b[0m\u001b[0;34m.\u001b[0m\u001b[0mconverted_call\u001b[0m\u001b[0;34m(\u001b[0m\u001b[0mag__\u001b[0m\u001b[0;34m.\u001b[0m\u001b[0mld\u001b[0m\u001b[0;34m(\u001b[0m\u001b[0mstep_function\u001b[0m\u001b[0;34m)\u001b[0m\u001b[0;34m,\u001b[0m \u001b[0;34m(\u001b[0m\u001b[0mag__\u001b[0m\u001b[0;34m.\u001b[0m\u001b[0mld\u001b[0m\u001b[0;34m(\u001b[0m\u001b[0mself\u001b[0m\u001b[0;34m)\u001b[0m\u001b[0;34m,\u001b[0m \u001b[0mag__\u001b[0m\u001b[0;34m.\u001b[0m\u001b[0mld\u001b[0m\u001b[0;34m(\u001b[0m\u001b[0miterator\u001b[0m\u001b[0;34m)\u001b[0m\u001b[0;34m)\u001b[0m\u001b[0;34m,\u001b[0m \u001b[0;32mNone\u001b[0m\u001b[0;34m,\u001b[0m \u001b[0mfscope\u001b[0m\u001b[0;34m)\u001b[0m\u001b[0;34m\u001b[0m\u001b[0;34m\u001b[0m\u001b[0m\n\u001b[0m\u001b[1;32m     16\u001b[0m                 \u001b[0;32mexcept\u001b[0m\u001b[0;34m:\u001b[0m\u001b[0;34m\u001b[0m\u001b[0;34m\u001b[0m\u001b[0m\n\u001b[1;32m     17\u001b[0m                     \u001b[0mdo_return\u001b[0m \u001b[0;34m=\u001b[0m \u001b[0;32mFalse\u001b[0m\u001b[0;34m\u001b[0m\u001b[0;34m\u001b[0m\u001b[0m\n",
            "\u001b[0;31mValueError\u001b[0m: in user code:\n\n    File \"/usr/local/lib/python3.7/dist-packages/keras/engine/training.py\", line 1051, in train_function  *\n        return step_function(self, iterator)\n    File \"/usr/local/lib/python3.7/dist-packages/keras/engine/training.py\", line 1040, in step_function  **\n        outputs = model.distribute_strategy.run(run_step, args=(data,))\n    File \"/usr/local/lib/python3.7/dist-packages/keras/engine/training.py\", line 1030, in run_step  **\n        outputs = model.train_step(data)\n    File \"/usr/local/lib/python3.7/dist-packages/keras/engine/training.py\", line 889, in train_step\n        y_pred = self(x, training=True)\n    File \"/usr/local/lib/python3.7/dist-packages/keras/utils/traceback_utils.py\", line 67, in error_handler\n        raise e.with_traceback(filtered_tb) from None\n    File \"/usr/local/lib/python3.7/dist-packages/keras/engine/input_spec.py\", line 214, in assert_input_compatibility\n        raise ValueError(f'Input {input_index} of layer \"{layer_name}\" '\n\n    ValueError: Exception encountered when calling layer \"sequential\" (type Sequential).\n    \n    Input 0 of layer \"time_distributed\" is incompatible with the layer: expected ndim=5, found ndim=4. Full shape received: (None, None, None, None)\n    \n    Call arguments received by layer \"sequential\" (type Sequential):\n      • inputs=tf.Tensor(shape=(None, None, None, None), dtype=float32)\n      • training=True\n      • mask=None\n"
          ]
        }
      ],
      "source": [
        "\n",
        "batch_size= 16\n",
        "epochs=25\n",
        "history = model.fit(datagen.flow(x_train_Den, aug_y_train, batch_size=batch_size),\n",
        "                     epochs=epochs,validation_data=(x_val,aug_y_valid))"
      ]
    },
    {
      "cell_type": "code",
      "execution_count": null,
      "metadata": {
        "colab": {
          "base_uri": "https://localhost:8080/"
        },
        "id": "N0CZjXUEJk-A",
        "outputId": "88773a17-d0df-4b47-a205-c1beaa4c7aba"
      },
      "outputs": [
        {
          "name": "stdout",
          "output_type": "stream",
          "text": [
            "Epoch 1/50\n",
            "7/7 [==============================] - 2s 239ms/step - loss: 0.0288 - accuracy: 0.9900 - val_loss: 9.0589 - val_accuracy: 0.1750\n",
            "Epoch 2/50\n",
            "7/7 [==============================] - 1s 193ms/step - loss: 0.0285 - accuracy: 0.9850 - val_loss: 7.3056 - val_accuracy: 0.3000\n",
            "Epoch 3/50\n",
            "7/7 [==============================] - 1s 191ms/step - loss: 0.0487 - accuracy: 0.9700 - val_loss: 7.4629 - val_accuracy: 0.2500\n",
            "Epoch 4/50\n",
            "7/7 [==============================] - 1s 193ms/step - loss: 0.0979 - accuracy: 0.9750 - val_loss: 6.7859 - val_accuracy: 0.3000\n",
            "Epoch 5/50\n",
            "7/7 [==============================] - 1s 193ms/step - loss: 0.0395 - accuracy: 0.9800 - val_loss: 7.7451 - val_accuracy: 0.3000\n",
            "Epoch 6/50\n",
            "7/7 [==============================] - 1s 192ms/step - loss: 0.0323 - accuracy: 0.9950 - val_loss: 8.1597 - val_accuracy: 0.3250\n",
            "Epoch 7/50\n",
            "7/7 [==============================] - 1s 193ms/step - loss: 0.0093 - accuracy: 1.0000 - val_loss: 8.6247 - val_accuracy: 0.2750\n",
            "Epoch 8/50\n",
            "7/7 [==============================] - 1s 193ms/step - loss: 0.0115 - accuracy: 0.9950 - val_loss: 9.7773 - val_accuracy: 0.3000\n",
            "Epoch 9/50\n",
            "7/7 [==============================] - 1s 193ms/step - loss: 0.0195 - accuracy: 0.9950 - val_loss: 9.7593 - val_accuracy: 0.3000\n",
            "Epoch 10/50\n",
            "7/7 [==============================] - 1s 192ms/step - loss: 0.0173 - accuracy: 0.9950 - val_loss: 8.8761 - val_accuracy: 0.2500\n",
            "Epoch 11/50\n",
            "7/7 [==============================] - 1s 192ms/step - loss: 0.0020 - accuracy: 1.0000 - val_loss: 8.5951 - val_accuracy: 0.2250\n",
            "Epoch 12/50\n",
            "7/7 [==============================] - 1s 195ms/step - loss: 0.0105 - accuracy: 0.9950 - val_loss: 8.0661 - val_accuracy: 0.2750\n",
            "Epoch 13/50\n",
            "7/7 [==============================] - 1s 194ms/step - loss: 0.0021 - accuracy: 1.0000 - val_loss: 8.3959 - val_accuracy: 0.3000\n",
            "Epoch 14/50\n",
            "7/7 [==============================] - 1s 193ms/step - loss: 0.0081 - accuracy: 0.9950 - val_loss: 8.6455 - val_accuracy: 0.2500\n",
            "Epoch 15/50\n",
            "7/7 [==============================] - 1s 194ms/step - loss: 0.0014 - accuracy: 1.0000 - val_loss: 9.3757 - val_accuracy: 0.2250\n",
            "Epoch 16/50\n",
            "7/7 [==============================] - 1s 192ms/step - loss: 0.0013 - accuracy: 1.0000 - val_loss: 9.7893 - val_accuracy: 0.2250\n",
            "Epoch 17/50\n",
            "7/7 [==============================] - 1s 193ms/step - loss: 6.2441e-04 - accuracy: 1.0000 - val_loss: 9.9845 - val_accuracy: 0.2250\n",
            "Epoch 18/50\n",
            "7/7 [==============================] - 1s 192ms/step - loss: 7.7166e-04 - accuracy: 1.0000 - val_loss: 10.1431 - val_accuracy: 0.2250\n",
            "Epoch 19/50\n",
            "7/7 [==============================] - 1s 195ms/step - loss: 5.6737e-04 - accuracy: 1.0000 - val_loss: 10.2239 - val_accuracy: 0.2250\n",
            "Epoch 20/50\n",
            "7/7 [==============================] - 1s 198ms/step - loss: 3.4003e-04 - accuracy: 1.0000 - val_loss: 10.2791 - val_accuracy: 0.2250\n",
            "Epoch 21/50\n",
            "7/7 [==============================] - 1s 196ms/step - loss: 0.0018 - accuracy: 1.0000 - val_loss: 10.5012 - val_accuracy: 0.2500\n",
            "Epoch 22/50\n",
            "7/7 [==============================] - 1s 198ms/step - loss: 3.6208e-04 - accuracy: 1.0000 - val_loss: 11.3262 - val_accuracy: 0.2500\n",
            "Epoch 23/50\n",
            "7/7 [==============================] - 2s 226ms/step - loss: 0.0025 - accuracy: 1.0000 - val_loss: 9.6459 - val_accuracy: 0.2750\n",
            "Epoch 24/50\n",
            "7/7 [==============================] - 2s 223ms/step - loss: 2.2485e-04 - accuracy: 1.0000 - val_loss: 9.7844 - val_accuracy: 0.2500\n",
            "Epoch 25/50\n",
            "7/7 [==============================] - 1s 215ms/step - loss: 0.0590 - accuracy: 0.9950 - val_loss: 10.8142 - val_accuracy: 0.2750\n",
            "Epoch 26/50\n",
            "7/7 [==============================] - 2s 225ms/step - loss: 0.0515 - accuracy: 0.9850 - val_loss: 10.5666 - val_accuracy: 0.3250\n",
            "Epoch 27/50\n",
            "7/7 [==============================] - 2s 219ms/step - loss: 0.0351 - accuracy: 0.9900 - val_loss: 10.2942 - val_accuracy: 0.3000\n",
            "Epoch 28/50\n",
            "7/7 [==============================] - 2s 233ms/step - loss: 0.0450 - accuracy: 0.9950 - val_loss: 10.3566 - val_accuracy: 0.2250\n",
            "Epoch 29/50\n",
            "7/7 [==============================] - 2s 220ms/step - loss: 0.1065 - accuracy: 0.9750 - val_loss: 8.8826 - val_accuracy: 0.2500\n",
            "Epoch 30/50\n",
            "7/7 [==============================] - 1s 208ms/step - loss: 0.0656 - accuracy: 0.9850 - val_loss: 7.8614 - val_accuracy: 0.2750\n",
            "Epoch 31/50\n",
            "7/7 [==============================] - 1s 194ms/step - loss: 0.1162 - accuracy: 0.9750 - val_loss: 11.3582 - val_accuracy: 0.2250\n",
            "Epoch 32/50\n",
            "7/7 [==============================] - 1s 195ms/step - loss: 0.1064 - accuracy: 0.9800 - val_loss: 10.1273 - val_accuracy: 0.2750\n",
            "Epoch 33/50\n",
            "7/7 [==============================] - 1s 201ms/step - loss: 0.2350 - accuracy: 0.9650 - val_loss: 9.3228 - val_accuracy: 0.2750\n",
            "Epoch 34/50\n",
            "7/7 [==============================] - 1s 195ms/step - loss: 0.0930 - accuracy: 0.9750 - val_loss: 8.6563 - val_accuracy: 0.2250\n",
            "Epoch 35/50\n",
            "7/7 [==============================] - 1s 198ms/step - loss: 0.0203 - accuracy: 0.9950 - val_loss: 8.6532 - val_accuracy: 0.2500\n",
            "Epoch 36/50\n",
            "7/7 [==============================] - 1s 194ms/step - loss: 0.0506 - accuracy: 0.9900 - val_loss: 8.0367 - val_accuracy: 0.3000\n",
            "Epoch 37/50\n",
            "7/7 [==============================] - 1s 195ms/step - loss: 0.0113 - accuracy: 0.9950 - val_loss: 7.9701 - val_accuracy: 0.3000\n",
            "Epoch 38/50\n",
            "7/7 [==============================] - 1s 194ms/step - loss: 0.0028 - accuracy: 1.0000 - val_loss: 8.1976 - val_accuracy: 0.3000\n",
            "Epoch 39/50\n",
            "7/7 [==============================] - 1s 195ms/step - loss: 0.0018 - accuracy: 1.0000 - val_loss: 8.6733 - val_accuracy: 0.3000\n",
            "Epoch 40/50\n",
            "7/7 [==============================] - 1s 196ms/step - loss: 0.0023 - accuracy: 1.0000 - val_loss: 8.9950 - val_accuracy: 0.3000\n",
            "Epoch 41/50\n",
            "7/7 [==============================] - 1s 197ms/step - loss: 0.0012 - accuracy: 1.0000 - val_loss: 9.2335 - val_accuracy: 0.3000\n",
            "Epoch 42/50\n",
            "7/7 [==============================] - 1s 198ms/step - loss: 0.0041 - accuracy: 0.9950 - val_loss: 9.3885 - val_accuracy: 0.3000\n",
            "Epoch 43/50\n",
            "7/7 [==============================] - 1s 197ms/step - loss: 5.3434e-04 - accuracy: 1.0000 - val_loss: 9.4655 - val_accuracy: 0.2750\n",
            "Epoch 44/50\n",
            "7/7 [==============================] - 1s 195ms/step - loss: 4.8947e-04 - accuracy: 1.0000 - val_loss: 9.4784 - val_accuracy: 0.2750\n",
            "Epoch 45/50\n",
            "7/7 [==============================] - 1s 195ms/step - loss: 9.3317e-04 - accuracy: 1.0000 - val_loss: 9.3451 - val_accuracy: 0.2750\n",
            "Epoch 46/50\n",
            "7/7 [==============================] - 1s 196ms/step - loss: 3.0968e-04 - accuracy: 1.0000 - val_loss: 9.3106 - val_accuracy: 0.2750\n",
            "Epoch 47/50\n",
            "7/7 [==============================] - 1s 196ms/step - loss: 2.5519e-04 - accuracy: 1.0000 - val_loss: 9.3389 - val_accuracy: 0.3000\n",
            "Epoch 48/50\n",
            "7/7 [==============================] - 1s 205ms/step - loss: 2.2584e-04 - accuracy: 1.0000 - val_loss: 9.3809 - val_accuracy: 0.3000\n",
            "Epoch 49/50\n",
            "7/7 [==============================] - 1s 208ms/step - loss: 2.1814e-04 - accuracy: 1.0000 - val_loss: 9.4175 - val_accuracy: 0.3000\n",
            "Epoch 50/50\n",
            "7/7 [==============================] - 1s 200ms/step - loss: 3.6397e-04 - accuracy: 1.0000 - val_loss: 9.4407 - val_accuracy: 0.3000\n"
          ]
        },
        {
          "data": {
            "text/plain": [
              "<keras.callbacks.History at 0x7ff23e4ca6d0>"
            ]
          },
          "execution_count": 113,
          "metadata": {},
          "output_type": "execute_result"
        }
      ],
      "source": [
        "model.fit(x_train,y_train,epochs=50,validation_data=(x_valid,y_valid))  "
      ]
    },
    {
      "cell_type": "code",
      "execution_count": null,
      "metadata": {
        "id": "ZW-12kfnM7p3"
      },
      "outputs": [],
      "source": [
        "model = Sequential()\n",
        "\n",
        "model.add(TimeDistributed(\n",
        "        Conv2D(64, (3,3), \n",
        "            padding='same', strides=(2,2), activation='relu')\n",
        "        ,input_shape = (15, 128, 128, 1)\n",
        "    ))\n",
        "\n",
        "model.add(TimeDistributed(Conv2D(64,kernel_size=(3,3),padding=\"same\", activation=\"relu\")))\n",
        "model.add(Dropout(0.5))\n",
        "\n",
        "model.add(TimeDistributed(MaxPool2D(pool_size=(2,2),strides=(2,2))))\n",
        "model.add(Dropout(0.5))\n",
        "\n",
        "model.add(TimeDistributed(Conv2D(128, kernel_size=(3,3), padding=\"same\", activation=\"relu\")))\n",
        "model.add(Dropout(0.5))\n",
        "\n",
        "model.add(TimeDistributed(Conv2D(128, kernel_size=(3,3), padding=\"same\", activation=\"relu\")))\n",
        "\n",
        "model.add(TimeDistributed(MaxPool2D(pool_size=(2,2),strides=(2,2))))\n",
        "\n",
        "model.add(TimeDistributed(Conv2D(256, kernel_size=(3,3), padding=\"same\", activation=\"relu\")))\n",
        "model.add(Dropout(0.5))\n",
        "\n",
        "model.add(TimeDistributed(Conv2D(256, kernel_size=(3,3), padding=\"same\", activation=\"relu\")))\n",
        "\n",
        "model.add(TimeDistributed(Conv2D(256, kernel_size=(3,3), padding=\"same\", activation=\"relu\")))\n",
        "\n",
        "model.add(TimeDistributed(MaxPool2D(pool_size=(2,2),strides=(2,2))))\n",
        "\n",
        "model.add(TimeDistributed(Conv2D(512, kernel_size=(3,3), padding=\"same\", activation=\"relu\")))\n",
        "\n",
        "model.add(TimeDistributed(Conv2D(512, kernel_size=(3,3), padding=\"same\", activation=\"relu\")))\n",
        "\n",
        "model.add(TimeDistributed(Conv2D(512, kernel_size=(3,3), padding=\"same\", activation=\"relu\")))\n",
        "\n",
        "model.add(TimeDistributed(MaxPool2D(pool_size=(2,2),strides=(2,2))))\n",
        "model.add(Dropout(0.5))\n",
        "\n",
        "model.add(TimeDistributed(Conv2D(512, kernel_size=(3,3), padding=\"same\", activation=\"relu\")))\n",
        "\n",
        "model.add(TimeDistributed(Conv2D(512, kernel_size=(3,3), padding=\"same\", activation=\"relu\")))\n",
        "\n",
        "model.add(TimeDistributed(Conv2D(512, kernel_size=(3,3), padding=\"same\", activation=\"relu\")))\n",
        "model.add(Dropout(0.5))\n",
        "\n",
        "model.add(TimeDistributed(MaxPool2D(pool_size=(2,2),strides=(2,2),name='vgg16')))\n",
        "\n",
        "model.add(Flatten(name='flatten'))\n",
        "\n",
        "model.add(Dense(256, activation='relu', name='fc1'))\n",
        "model.add(Dropout(0.5))\n",
        "\n",
        "model.add(Dense(128, activation='relu', name='fc2'))\n",
        "model.add(Dropout(0.5))\n",
        "\n",
        "model.add(Dense(10, activation='softmax'))"
      ]
    },
    {
      "cell_type": "code",
      "execution_count": null,
      "metadata": {
        "id": "vwMHY8lcLUUX"
      },
      "outputs": [],
      "source": []
    },
    {
      "cell_type": "code",
      "execution_count": null,
      "metadata": {
        "id": "Kz0RkWUlIy4L"
      },
      "outputs": [],
      "source": []
    },
    {
      "cell_type": "code",
      "execution_count": null,
      "metadata": {
        "id": "B4R9IETXIy1Y"
      },
      "outputs": [],
      "source": []
    },
    {
      "cell_type": "markdown",
      "metadata": {
        "id": "lbZQl9ROrGRa"
      },
      "source": [
        "### Test data "
      ]
    },
    {
      "cell_type": "code",
      "execution_count": null,
      "metadata": {
        "colab": {
          "base_uri": "https://localhost:8080/"
        },
        "id": "qfxzBg0-rGRb",
        "outputId": "21cc1d1c-8964-4642-ff44-3ecc4e233107",
        "scrolled": true
      },
      "outputs": [
        {
          "name": "stderr",
          "output_type": "stream",
          "text": [
            "100%|██████████| 19/19 [00:05<00:00,  3.63it/s]\n"
          ]
        },
        {
          "name": "stdout",
          "output_type": "stream",
          "text": [
            "\n",
            "Created tensors for the testing successfully!!\n"
          ]
        }
      ],
      "source": [
        "x_test = reader.read_videos(np.delete(test_files,[1]))\n",
        "print()\n",
        "print('Created tensors for the testing successfully!!')"
      ]
    },
    {
      "cell_type": "code",
      "execution_count": null,
      "metadata": {
        "colab": {
          "base_uri": "https://localhost:8080/"
        },
        "id": "xir-0g2ZrGRb",
        "outputId": "b2dcf199-73d5-4ce9-9126-df216e51ed61"
      },
      "outputs": [
        {
          "name": "stdout",
          "output_type": "stream",
          "text": [
            "Test Set : \n",
            "\n",
            "Number of videos : 19\n",
            "Frames for each video : 15\n",
            "Dimensions of the frame  height x width: (128, 128)\n",
            "Colors in the image : 3\n"
          ]
        }
      ],
      "source": [
        "print(\"Test Set : \\n\")\n",
        "print('Number of videos :',x_test.shape[0])\n",
        "print('Frames for each video :',x_test.shape[1])\n",
        "print('Dimensions of the frame  height x width:',(x_test.shape[2],x_test.shape[3]))\n",
        "print('Colors in the image :',x_test.shape[-1])"
      ]
    },
    {
      "cell_type": "code",
      "execution_count": null,
      "metadata": {
        "colab": {
          "base_uri": "https://localhost:8080/"
        },
        "id": "xj7UZR6RrGRc",
        "outputId": "21b21823-091d-41ab-b761-2a215753a790"
      },
      "outputs": [
        {
          "name": "stdout",
          "output_type": "stream",
          "text": [
            "[[0. 0. 0. 0. 0. 0. 0. 0. 1. 0.]\n",
            " [0. 0. 0. 0. 0. 0. 0. 1. 0. 0.]\n",
            " [0. 0. 0. 0. 1. 0. 0. 0. 0. 0.]\n",
            " [0. 0. 0. 0. 1. 0. 0. 0. 0. 0.]\n",
            " [0. 0. 0. 1. 0. 0. 0. 0. 0. 0.]\n",
            " [0. 0. 1. 0. 0. 0. 0. 0. 0. 0.]\n",
            " [0. 0. 0. 0. 0. 0. 0. 0. 1. 0.]\n",
            " [0. 1. 0. 0. 0. 0. 0. 0. 0. 0.]\n",
            " [1. 0. 0. 0. 0. 0. 0. 0. 0. 0.]\n",
            " [0. 1. 0. 0. 0. 0. 0. 0. 0. 0.]\n",
            " [0. 0. 0. 1. 0. 0. 0. 0. 0. 0.]\n",
            " [0. 0. 0. 0. 0. 0. 0. 1. 0. 0.]\n",
            " [0. 0. 0. 1. 0. 0. 0. 0. 0. 0.]\n",
            " [0. 0. 0. 0. 0. 0. 0. 0. 0. 1.]\n",
            " [1. 0. 0. 0. 0. 0. 0. 0. 0. 0.]\n",
            " [0. 0. 0. 0. 0. 0. 0. 1. 0. 0.]\n",
            " [0. 0. 0. 0. 0. 0. 0. 1. 0. 0.]\n",
            " [0. 1. 0. 0. 0. 0. 0. 0. 0. 0.]\n",
            " [0. 0. 0. 1. 0. 0. 0. 0. 0. 0.]] [8 7 4 4 3 2 8 1 0 1 3 7 3 9 0 7 7 1 3]\n",
            "Shape of the y_test : (19, 10)\n"
          ]
        }
      ],
      "source": [
        "y_test = to_categorical(np.delete(test_targets,[1]),num_classes=10)\n",
        "\n",
        "print(y_test,np.delete(test_targets,[1]))\n",
        "\n",
        "print('Shape of the y_test :',y_test.shape)"
      ]
    },
    {
      "cell_type": "code",
      "execution_count": null,
      "metadata": {
        "colab": {
          "base_uri": "https://localhost:8080/"
        },
        "id": "PbI341jaFATM",
        "outputId": "724d4f76-6e4f-4538-bb66-4009296731ed"
      },
      "outputs": [
        {
          "data": {
            "text/plain": [
              "TensorShape([15, 128, 128, 3])"
            ]
          },
          "execution_count": 49,
          "metadata": {},
          "output_type": "execute_result"
        }
      ],
      "source": [
        "x_train.shape"
      ]
    },
    {
      "cell_type": "code",
      "execution_count": null,
      "metadata": {
        "colab": {
          "base_uri": "https://localhost:8080/"
        },
        "id": "qmz97HEaFAIk",
        "outputId": "9f1f2cbf-8fed-4c58-d8c0-7c2690cd62d7"
      },
      "outputs": [
        {
          "name": "stdout",
          "output_type": "stream",
          "text": [
            "Epoch 1/50\n",
            "2/2 [==============================] - 6s 2s/step - loss: 6.9294 - accuracy: 0.1500 - val_loss: 3.1603 - val_accuracy: 0.1000\n",
            "Epoch 2/50\n",
            "2/2 [==============================] - 1s 363ms/step - loss: 2.5789 - accuracy: 0.5333 - val_loss: 4.1053 - val_accuracy: 0.0500\n",
            "Epoch 3/50\n",
            "2/2 [==============================] - 1s 363ms/step - loss: 2.1074 - accuracy: 0.6833 - val_loss: 3.3275 - val_accuracy: 0.0500\n",
            "Epoch 4/50\n",
            "2/2 [==============================] - 1s 368ms/step - loss: 0.8500 - accuracy: 0.8000 - val_loss: 2.7988 - val_accuracy: 0.0000e+00\n",
            "Epoch 5/50\n",
            "2/2 [==============================] - 1s 365ms/step - loss: 0.3391 - accuracy: 0.8667 - val_loss: 2.8581 - val_accuracy: 0.1000\n",
            "Epoch 6/50\n",
            "2/2 [==============================] - 1s 372ms/step - loss: 0.4136 - accuracy: 0.9500 - val_loss: 3.1216 - val_accuracy: 0.1000\n",
            "Epoch 7/50\n",
            "2/2 [==============================] - 1s 365ms/step - loss: 0.1846 - accuracy: 0.9333 - val_loss: 3.6436 - val_accuracy: 0.1000\n",
            "Epoch 8/50\n",
            "2/2 [==============================] - 1s 374ms/step - loss: 0.1998 - accuracy: 0.9500 - val_loss: 4.2499 - val_accuracy: 0.0500\n",
            "Epoch 9/50\n",
            "2/2 [==============================] - 1s 365ms/step - loss: 0.1012 - accuracy: 0.9833 - val_loss: 4.8908 - val_accuracy: 0.0500\n",
            "Epoch 10/50\n",
            "2/2 [==============================] - 1s 372ms/step - loss: 0.2125 - accuracy: 0.9167 - val_loss: 5.6409 - val_accuracy: 0.0500\n",
            "Epoch 11/50\n",
            "2/2 [==============================] - 1s 366ms/step - loss: 0.3981 - accuracy: 0.9167 - val_loss: 6.3102 - val_accuracy: 0.0500\n",
            "Epoch 12/50\n",
            "2/2 [==============================] - 1s 367ms/step - loss: 0.0533 - accuracy: 0.9833 - val_loss: 6.7741 - val_accuracy: 0.0500\n",
            "Epoch 13/50\n",
            "2/2 [==============================] - 1s 371ms/step - loss: 0.0156 - accuracy: 1.0000 - val_loss: 7.1444 - val_accuracy: 0.0500\n",
            "Epoch 14/50\n",
            "2/2 [==============================] - 1s 366ms/step - loss: 0.0236 - accuracy: 0.9833 - val_loss: 7.5950 - val_accuracy: 0.1000\n",
            "Epoch 15/50\n",
            "2/2 [==============================] - 1s 384ms/step - loss: 0.2713 - accuracy: 0.9667 - val_loss: 8.2057 - val_accuracy: 0.0500\n",
            "Epoch 16/50\n",
            "2/2 [==============================] - 1s 366ms/step - loss: 0.0107 - accuracy: 1.0000 - val_loss: 8.9300 - val_accuracy: 0.0500\n",
            "Epoch 17/50\n",
            "2/2 [==============================] - 1s 366ms/step - loss: 0.2637 - accuracy: 0.9667 - val_loss: 9.6535 - val_accuracy: 0.0500\n",
            "Epoch 18/50\n",
            "2/2 [==============================] - 1s 371ms/step - loss: 4.0410e-04 - accuracy: 1.0000 - val_loss: 10.3239 - val_accuracy: 0.0500\n",
            "Epoch 19/50\n",
            "2/2 [==============================] - 1s 363ms/step - loss: 0.0022 - accuracy: 1.0000 - val_loss: 10.9204 - val_accuracy: 0.0500\n",
            "Epoch 20/50\n",
            "2/2 [==============================] - 1s 376ms/step - loss: 0.0405 - accuracy: 0.9833 - val_loss: 11.5025 - val_accuracy: 0.0500\n",
            "Epoch 21/50\n",
            "2/2 [==============================] - 1s 373ms/step - loss: 0.1417 - accuracy: 0.9833 - val_loss: 11.7966 - val_accuracy: 0.0500\n",
            "Epoch 22/50\n",
            "2/2 [==============================] - 1s 370ms/step - loss: 0.1175 - accuracy: 0.9667 - val_loss: 12.1160 - val_accuracy: 0.0500\n",
            "Epoch 23/50\n",
            "2/2 [==============================] - 1s 442ms/step - loss: 0.0536 - accuracy: 0.9833 - val_loss: 12.3659 - val_accuracy: 0.0500\n",
            "Epoch 24/50\n",
            "2/2 [==============================] - 1s 369ms/step - loss: 0.0846 - accuracy: 0.9833 - val_loss: 12.5652 - val_accuracy: 0.0500\n",
            "Epoch 25/50\n",
            "2/2 [==============================] - 1s 375ms/step - loss: 1.8355e-04 - accuracy: 1.0000 - val_loss: 12.7412 - val_accuracy: 0.0500\n",
            "Epoch 26/50\n",
            "2/2 [==============================] - 1s 369ms/step - loss: 0.2268 - accuracy: 0.9667 - val_loss: 12.8314 - val_accuracy: 0.0500\n",
            "Epoch 27/50\n",
            "2/2 [==============================] - 1s 367ms/step - loss: 7.2552e-05 - accuracy: 1.0000 - val_loss: 12.8770 - val_accuracy: 0.0500\n",
            "Epoch 28/50\n",
            "2/2 [==============================] - 1s 366ms/step - loss: 0.0032 - accuracy: 1.0000 - val_loss: 13.1253 - val_accuracy: 0.0500\n",
            "Epoch 29/50\n",
            "2/2 [==============================] - 1s 369ms/step - loss: 0.2013 - accuracy: 0.9667 - val_loss: 14.7689 - val_accuracy: 0.0500\n",
            "Epoch 30/50\n",
            "2/2 [==============================] - 1s 371ms/step - loss: 0.0822 - accuracy: 0.9833 - val_loss: 17.5392 - val_accuracy: 0.0500\n",
            "Epoch 31/50\n",
            "2/2 [==============================] - 1s 371ms/step - loss: 0.0373 - accuracy: 0.9833 - val_loss: 20.2777 - val_accuracy: 0.0500\n",
            "Epoch 32/50\n",
            "2/2 [==============================] - 1s 367ms/step - loss: 6.5304e-05 - accuracy: 1.0000 - val_loss: 22.9376 - val_accuracy: 0.0500\n",
            "Epoch 33/50\n",
            "2/2 [==============================] - 1s 373ms/step - loss: 0.0048 - accuracy: 1.0000 - val_loss: 25.2990 - val_accuracy: 0.0500\n",
            "Epoch 34/50\n",
            "2/2 [==============================] - 1s 372ms/step - loss: 0.0049 - accuracy: 1.0000 - val_loss: 27.4431 - val_accuracy: 0.0500\n",
            "Epoch 35/50\n",
            "2/2 [==============================] - 1s 382ms/step - loss: 0.0546 - accuracy: 0.9833 - val_loss: 29.2969 - val_accuracy: 0.0500\n",
            "Epoch 36/50\n",
            "2/2 [==============================] - 1s 367ms/step - loss: 4.3410e-06 - accuracy: 1.0000 - val_loss: 30.8961 - val_accuracy: 0.0500\n",
            "Epoch 37/50\n",
            "2/2 [==============================] - 1s 380ms/step - loss: 0.0082 - accuracy: 1.0000 - val_loss: 32.3668 - val_accuracy: 0.0500\n",
            "Epoch 38/50\n",
            "2/2 [==============================] - 1s 374ms/step - loss: 0.2573 - accuracy: 0.9500 - val_loss: 32.8291 - val_accuracy: 0.0500\n",
            "Epoch 39/50\n",
            "2/2 [==============================] - 1s 373ms/step - loss: 0.2376 - accuracy: 0.9667 - val_loss: 33.4044 - val_accuracy: 0.0500\n",
            "Epoch 40/50\n",
            "2/2 [==============================] - 1s 456ms/step - loss: 0.4051 - accuracy: 0.9500 - val_loss: 34.7423 - val_accuracy: 0.0500\n",
            "Epoch 41/50\n",
            "2/2 [==============================] - 1s 409ms/step - loss: 3.7401e-04 - accuracy: 1.0000 - val_loss: 36.4066 - val_accuracy: 0.0500\n",
            "Epoch 42/50\n",
            "2/2 [==============================] - 1s 374ms/step - loss: 0.0453 - accuracy: 0.9833 - val_loss: 37.5206 - val_accuracy: 0.0500\n",
            "Epoch 43/50\n",
            "2/2 [==============================] - 1s 371ms/step - loss: 0.0030 - accuracy: 1.0000 - val_loss: 38.1948 - val_accuracy: 0.0500\n",
            "Epoch 44/50\n",
            "2/2 [==============================] - 1s 386ms/step - loss: 0.4935 - accuracy: 0.9500 - val_loss: 36.0466 - val_accuracy: 0.0500\n",
            "Epoch 45/50\n",
            "2/2 [==============================] - 1s 374ms/step - loss: 0.0371 - accuracy: 0.9833 - val_loss: 29.3851 - val_accuracy: 0.0500\n",
            "Epoch 46/50\n",
            "2/2 [==============================] - 1s 375ms/step - loss: 0.3332 - accuracy: 0.9667 - val_loss: 23.2259 - val_accuracy: 0.0500\n",
            "Epoch 47/50\n",
            "2/2 [==============================] - 1s 374ms/step - loss: 0.5178 - accuracy: 0.9500 - val_loss: 18.7217 - val_accuracy: 0.0000e+00\n",
            "Epoch 48/50\n",
            "2/2 [==============================] - 1s 372ms/step - loss: 6.6114e-06 - accuracy: 1.0000 - val_loss: 15.5957 - val_accuracy: 0.0500\n",
            "Epoch 49/50\n",
            "2/2 [==============================] - 1s 371ms/step - loss: 0.1366 - accuracy: 0.9667 - val_loss: 13.7142 - val_accuracy: 0.1500\n",
            "Epoch 50/50\n",
            "2/2 [==============================] - 1s 359ms/step - loss: 0.0772 - accuracy: 0.9833 - val_loss: 13.3472 - val_accuracy: 0.1000\n"
          ]
        }
      ],
      "source": [
        "from keras.models import Sequential\n",
        "from keras.layers import Dense, MaxPooling3D, Conv3D, Flatten, Dropout,BatchNormalization\n",
        "\n",
        "model = Sequential()\n",
        "model.add(Conv3D(\n",
        "            16, (3,3,3), activation='relu', input_shape=(15, 128, 128, 3)\n",
        "        ))\n",
        "model.add(Dropout(0.5))\n",
        "model.add(BatchNormalization())\n",
        "model.add(MaxPooling3D(pool_size=(1, 2, 2), strides=(1, 2, 2)))\n",
        "model.add(Dropout(0.5))\n",
        "model.add(BatchNormalization())\n",
        "model.add(Conv3D(\n",
        "            16, (3,3,3), activation='relu'\n",
        "        ))\n",
        "model.add(Dropout(0.5))\n",
        "model.add(BatchNormalization())\n",
        "model.add(MaxPooling3D(pool_size=(1, 2, 2), strides=(1, 2, 2)))\n",
        "model.add(Conv3D(\n",
        "            16, (3,3,3), activation='relu'\n",
        "        ))\n",
        "model.add(Dropout(0.5))\n",
        "model.add(BatchNormalization())\n",
        "\n",
        "model.add(MaxPooling3D(pool_size=(1, 2, 2), strides=(1, 2, 2)))\n",
        "model.add(BatchNormalization())\n",
        "\n",
        "model.add(Flatten())\n",
        "model.add(Dense(128))\n",
        "model.add(Dropout(0.5))\n",
        "model.add(Dense(10, activation='softmax'))\n",
        "model.compile(\n",
        "        loss=\"categorical_crossentropy\", optimizer=\"adam\", metrics=[\"accuracy\"]\n",
        "    )\n",
        "\n",
        "\n",
        "history = model.fit(x_train,y_train,epochs=50,validation_data=(x_valid,y_valid))  "
      ]
    },
    {
      "cell_type": "code",
      "execution_count": null,
      "metadata": {
        "id": "3uj1LaJ0OXhb"
      },
      "outputs": [],
      "source": []
    },
    {
      "cell_type": "markdown",
      "metadata": {
        "id": "pw0hvCqRSoyz"
      },
      "source": [
        "# try 1"
      ]
    },
    {
      "cell_type": "code",
      "execution_count": null,
      "metadata": {
        "id": "wvu7SVgDV1VT"
      },
      "outputs": [],
      "source": [
        "x_valid.shape"
      ]
    },
    {
      "cell_type": "code",
      "execution_count": null,
      "metadata": {
        "id": "nGrZBVy_WAAN"
      },
      "outputs": [],
      "source": [
        "y_train.shape"
      ]
    },
    {
      "cell_type": "code",
      "execution_count": null,
      "metadata": {
        "id": "Km5G614PV6lK"
      },
      "outputs": [],
      "source": [
        "y_valid.shape"
      ]
    },
    {
      "cell_type": "code",
      "execution_count": null,
      "metadata": {
        "colab": {
          "base_uri": "https://localhost:8080/"
        },
        "id": "eRdoO3MvUzSZ",
        "outputId": "042c1348-ad5f-4386-e9d1-43aed3be86a7"
      },
      "outputs": [
        {
          "name": "stdout",
          "output_type": "stream",
          "text": [
            "Epoch 1/100\n",
            "7/7 [==============================] - 2s 50ms/step - loss: 3.5165 - accuracy: 0.0714 - val_loss: 2.4356 - val_accuracy: 0.2143\n",
            "Epoch 2/100\n",
            "7/7 [==============================] - 0s 18ms/step - loss: 5.0726 - accuracy: 0.2143 - val_loss: 2.5130 - val_accuracy: 0.2143\n",
            "Epoch 3/100\n",
            "7/7 [==============================] - 0s 17ms/step - loss: 3.7912 - accuracy: 0.2857 - val_loss: 2.4996 - val_accuracy: 0.2143\n",
            "Epoch 4/100\n",
            "7/7 [==============================] - 0s 16ms/step - loss: 3.6544 - accuracy: 0.3571 - val_loss: 2.4890 - val_accuracy: 0.2143\n",
            "Epoch 5/100\n",
            "7/7 [==============================] - 0s 16ms/step - loss: 3.1351 - accuracy: 0.2143 - val_loss: 2.3103 - val_accuracy: 0.0000e+00\n",
            "Epoch 6/100\n",
            "7/7 [==============================] - 0s 19ms/step - loss: 3.6888 - accuracy: 0.4286 - val_loss: 2.2261 - val_accuracy: 0.5000\n",
            "Epoch 7/100\n",
            "7/7 [==============================] - 0s 17ms/step - loss: 6.0870 - accuracy: 0.0714 - val_loss: 1.9943 - val_accuracy: 0.5000\n",
            "Epoch 8/100\n",
            "7/7 [==============================] - 0s 19ms/step - loss: 2.0284 - accuracy: 0.4286 - val_loss: 2.4004 - val_accuracy: 0.2857\n",
            "Epoch 9/100\n",
            "7/7 [==============================] - 0s 18ms/step - loss: 2.7256 - accuracy: 0.2143 - val_loss: 2.5313 - val_accuracy: 0.2857\n",
            "Epoch 10/100\n",
            "7/7 [==============================] - 0s 17ms/step - loss: 2.4526 - accuracy: 0.5714 - val_loss: 2.7680 - val_accuracy: 0.2857\n",
            "Epoch 11/100\n",
            "7/7 [==============================] - 0s 17ms/step - loss: 2.3681 - accuracy: 0.3571 - val_loss: 3.0488 - val_accuracy: 0.2857\n",
            "Epoch 12/100\n",
            "7/7 [==============================] - 0s 17ms/step - loss: 3.2128 - accuracy: 0.1429 - val_loss: 3.4236 - val_accuracy: 0.2857\n",
            "Epoch 13/100\n",
            "7/7 [==============================] - 0s 19ms/step - loss: 2.0415 - accuracy: 0.5000 - val_loss: 3.4472 - val_accuracy: 0.1429\n",
            "Epoch 14/100\n",
            "7/7 [==============================] - 0s 17ms/step - loss: 4.0907 - accuracy: 0.0714 - val_loss: 4.1027 - val_accuracy: 0.2857\n",
            "Epoch 15/100\n",
            "7/7 [==============================] - 0s 17ms/step - loss: 3.0117 - accuracy: 0.2857 - val_loss: 5.0882 - val_accuracy: 0.2857\n",
            "Epoch 16/100\n",
            "7/7 [==============================] - 0s 17ms/step - loss: 2.9590 - accuracy: 0.2143 - val_loss: 5.8265 - val_accuracy: 0.2857\n",
            "Epoch 17/100\n",
            "7/7 [==============================] - 0s 19ms/step - loss: 3.6224 - accuracy: 0.2857 - val_loss: 6.6539 - val_accuracy: 0.2857\n",
            "Epoch 18/100\n",
            "7/7 [==============================] - 0s 17ms/step - loss: 1.5580 - accuracy: 0.5714 - val_loss: 7.3196 - val_accuracy: 0.2857\n",
            "Epoch 19/100\n",
            "7/7 [==============================] - 0s 18ms/step - loss: 2.1057 - accuracy: 0.6429 - val_loss: 9.2981 - val_accuracy: 0.2857\n",
            "Epoch 20/100\n",
            "7/7 [==============================] - 0s 17ms/step - loss: 2.5835 - accuracy: 0.2857 - val_loss: 9.8854 - val_accuracy: 0.2857\n",
            "Epoch 21/100\n",
            "7/7 [==============================] - 0s 18ms/step - loss: 1.6524 - accuracy: 0.4286 - val_loss: 11.9702 - val_accuracy: 0.2857\n",
            "Epoch 22/100\n",
            "7/7 [==============================] - 0s 17ms/step - loss: 1.1634 - accuracy: 0.7857 - val_loss: 15.1209 - val_accuracy: 0.2857\n",
            "Epoch 23/100\n",
            "7/7 [==============================] - 0s 17ms/step - loss: 1.4563 - accuracy: 0.5000 - val_loss: 16.3876 - val_accuracy: 0.2857\n",
            "Epoch 24/100\n",
            "7/7 [==============================] - 0s 17ms/step - loss: 2.1160 - accuracy: 0.2143 - val_loss: 15.9792 - val_accuracy: 0.2857\n",
            "Epoch 25/100\n",
            "7/7 [==============================] - 0s 18ms/step - loss: 0.7943 - accuracy: 0.6429 - val_loss: 15.1782 - val_accuracy: 0.2857\n",
            "Epoch 26/100\n",
            "7/7 [==============================] - 0s 17ms/step - loss: 1.9670 - accuracy: 0.5000 - val_loss: 14.6600 - val_accuracy: 0.2857\n",
            "Epoch 27/100\n",
            "7/7 [==============================] - 0s 18ms/step - loss: 1.5267 - accuracy: 0.4286 - val_loss: 16.3019 - val_accuracy: 0.2857\n",
            "Epoch 28/100\n",
            "7/7 [==============================] - 0s 17ms/step - loss: 2.1675 - accuracy: 0.4286 - val_loss: 16.3744 - val_accuracy: 0.2857\n",
            "Epoch 29/100\n",
            "7/7 [==============================] - 0s 17ms/step - loss: 1.5763 - accuracy: 0.4286 - val_loss: 16.0913 - val_accuracy: 0.2857\n",
            "Epoch 30/100\n",
            "7/7 [==============================] - 0s 18ms/step - loss: 1.5846 - accuracy: 0.6429 - val_loss: 14.4381 - val_accuracy: 0.2857\n",
            "Epoch 31/100\n",
            "7/7 [==============================] - 0s 17ms/step - loss: 2.9753 - accuracy: 0.4286 - val_loss: 12.5974 - val_accuracy: 0.2857\n",
            "Epoch 32/100\n",
            "7/7 [==============================] - 0s 18ms/step - loss: 2.1235 - accuracy: 0.5000 - val_loss: 12.0313 - val_accuracy: 0.2857\n",
            "Epoch 33/100\n",
            "7/7 [==============================] - 0s 17ms/step - loss: 2.1567 - accuracy: 0.4286 - val_loss: 11.1901 - val_accuracy: 0.2143\n",
            "Epoch 34/100\n",
            "7/7 [==============================] - 0s 19ms/step - loss: 1.8907 - accuracy: 0.4286 - val_loss: 10.9765 - val_accuracy: 0.2143\n",
            "Epoch 35/100\n",
            "7/7 [==============================] - 0s 16ms/step - loss: 2.5353 - accuracy: 0.3571 - val_loss: 9.8501 - val_accuracy: 0.2143\n",
            "Epoch 36/100\n",
            "7/7 [==============================] - 0s 18ms/step - loss: 2.3456 - accuracy: 0.5714 - val_loss: 9.6209 - val_accuracy: 0.2857\n",
            "Epoch 37/100\n",
            "7/7 [==============================] - 0s 18ms/step - loss: 1.0386 - accuracy: 0.6429 - val_loss: 10.3735 - val_accuracy: 0.2857\n",
            "Epoch 38/100\n",
            "7/7 [==============================] - 0s 17ms/step - loss: 2.5998 - accuracy: 0.4286 - val_loss: 11.2151 - val_accuracy: 0.2857\n",
            "Epoch 39/100\n",
            "7/7 [==============================] - 0s 17ms/step - loss: 1.3835 - accuracy: 0.6429 - val_loss: 12.1170 - val_accuracy: 0.2857\n",
            "Epoch 40/100\n",
            "7/7 [==============================] - 0s 17ms/step - loss: 1.2997 - accuracy: 0.5714 - val_loss: 10.4188 - val_accuracy: 0.2857\n",
            "Epoch 41/100\n",
            "7/7 [==============================] - 0s 19ms/step - loss: 2.3678 - accuracy: 0.5000 - val_loss: 7.7608 - val_accuracy: 0.2143\n",
            "Epoch 42/100\n",
            "7/7 [==============================] - 0s 17ms/step - loss: 1.0023 - accuracy: 0.8571 - val_loss: 7.1890 - val_accuracy: 0.1429\n",
            "Epoch 43/100\n",
            "7/7 [==============================] - 0s 17ms/step - loss: 1.6047 - accuracy: 0.5714 - val_loss: 7.0119 - val_accuracy: 0.0000e+00\n",
            "Epoch 44/100\n",
            "7/7 [==============================] - 0s 17ms/step - loss: 2.1230 - accuracy: 0.3571 - val_loss: 6.7864 - val_accuracy: 0.0000e+00\n",
            "Epoch 45/100\n",
            "7/7 [==============================] - 0s 18ms/step - loss: 0.8166 - accuracy: 0.7857 - val_loss: 10.1719 - val_accuracy: 0.0000e+00\n",
            "Epoch 46/100\n",
            "7/7 [==============================] - 0s 18ms/step - loss: 1.1621 - accuracy: 0.7143 - val_loss: 11.1117 - val_accuracy: 0.0000e+00\n",
            "Epoch 47/100\n",
            "7/7 [==============================] - 0s 17ms/step - loss: 1.4585 - accuracy: 0.6429 - val_loss: 11.5673 - val_accuracy: 0.0000e+00\n",
            "Epoch 48/100\n",
            "7/7 [==============================] - 0s 18ms/step - loss: 2.2194 - accuracy: 0.2143 - val_loss: 9.1646 - val_accuracy: 0.0000e+00\n",
            "Epoch 49/100\n",
            "7/7 [==============================] - 0s 17ms/step - loss: 1.3063 - accuracy: 0.5714 - val_loss: 12.3084 - val_accuracy: 0.0000e+00\n",
            "Epoch 50/100\n",
            "7/7 [==============================] - 0s 18ms/step - loss: 1.2942 - accuracy: 0.5714 - val_loss: 15.3540 - val_accuracy: 0.0000e+00\n",
            "Epoch 51/100\n",
            "7/7 [==============================] - 0s 16ms/step - loss: 0.8808 - accuracy: 0.7857 - val_loss: 17.4686 - val_accuracy: 0.0000e+00\n",
            "Epoch 52/100\n",
            "7/7 [==============================] - 0s 17ms/step - loss: 1.0530 - accuracy: 0.6429 - val_loss: 16.0783 - val_accuracy: 0.0000e+00\n",
            "Epoch 53/100\n",
            "7/7 [==============================] - 0s 18ms/step - loss: 1.8006 - accuracy: 0.2857 - val_loss: 17.3574 - val_accuracy: 0.0000e+00\n",
            "Epoch 54/100\n",
            "7/7 [==============================] - 0s 18ms/step - loss: 1.9948 - accuracy: 0.4286 - val_loss: 16.7667 - val_accuracy: 0.0000e+00\n",
            "Epoch 55/100\n",
            "7/7 [==============================] - 0s 20ms/step - loss: 1.8148 - accuracy: 0.5714 - val_loss: 17.6876 - val_accuracy: 0.0000e+00\n",
            "Epoch 56/100\n",
            "7/7 [==============================] - 0s 17ms/step - loss: 1.4367 - accuracy: 0.6429 - val_loss: 20.4900 - val_accuracy: 0.0000e+00\n",
            "Epoch 57/100\n",
            "7/7 [==============================] - 0s 16ms/step - loss: 0.9754 - accuracy: 0.6429 - val_loss: 24.7413 - val_accuracy: 0.0000e+00\n",
            "Epoch 58/100\n",
            "7/7 [==============================] - 0s 18ms/step - loss: 2.2223 - accuracy: 0.5000 - val_loss: 30.5426 - val_accuracy: 0.0000e+00\n",
            "Epoch 59/100\n",
            "7/7 [==============================] - 0s 17ms/step - loss: 1.2786 - accuracy: 0.5714 - val_loss: 34.6886 - val_accuracy: 0.0000e+00\n",
            "Epoch 60/100\n",
            "7/7 [==============================] - 0s 17ms/step - loss: 0.9349 - accuracy: 0.5714 - val_loss: 33.0566 - val_accuracy: 0.0000e+00\n",
            "Epoch 61/100\n",
            "7/7 [==============================] - 0s 19ms/step - loss: 1.1120 - accuracy: 0.6429 - val_loss: 26.9432 - val_accuracy: 0.0000e+00\n",
            "Epoch 62/100\n",
            "7/7 [==============================] - 0s 16ms/step - loss: 2.0216 - accuracy: 0.4286 - val_loss: 22.4114 - val_accuracy: 0.0000e+00\n",
            "Epoch 63/100\n",
            "7/7 [==============================] - 0s 18ms/step - loss: 1.0671 - accuracy: 0.5714 - val_loss: 20.8145 - val_accuracy: 0.0714\n",
            "Epoch 64/100\n",
            "7/7 [==============================] - 0s 17ms/step - loss: 1.7172 - accuracy: 0.4286 - val_loss: 15.6665 - val_accuracy: 0.1429\n",
            "Epoch 65/100\n",
            "7/7 [==============================] - 0s 18ms/step - loss: 1.5639 - accuracy: 0.5000 - val_loss: 18.5800 - val_accuracy: 0.1429\n",
            "Epoch 66/100\n",
            "7/7 [==============================] - 0s 18ms/step - loss: 1.8287 - accuracy: 0.4286 - val_loss: 20.7065 - val_accuracy: 0.1429\n",
            "Epoch 67/100\n",
            "7/7 [==============================] - 0s 17ms/step - loss: 2.3220 - accuracy: 0.5000 - val_loss: 21.5549 - val_accuracy: 0.0714\n",
            "Epoch 68/100\n",
            "7/7 [==============================] - 0s 18ms/step - loss: 1.0960 - accuracy: 0.6429 - val_loss: 21.2306 - val_accuracy: 0.0000e+00\n",
            "Epoch 69/100\n",
            "7/7 [==============================] - 0s 17ms/step - loss: 1.0063 - accuracy: 0.7143 - val_loss: 21.5536 - val_accuracy: 0.0000e+00\n",
            "Epoch 70/100\n",
            "7/7 [==============================] - 0s 17ms/step - loss: 1.2878 - accuracy: 0.6429 - val_loss: 30.9387 - val_accuracy: 0.0000e+00\n",
            "Epoch 71/100\n",
            "7/7 [==============================] - 0s 17ms/step - loss: 1.9261 - accuracy: 0.3571 - val_loss: 35.2640 - val_accuracy: 0.0000e+00\n",
            "Epoch 72/100\n",
            "7/7 [==============================] - 0s 17ms/step - loss: 2.4953 - accuracy: 0.3571 - val_loss: 39.3664 - val_accuracy: 0.0000e+00\n",
            "Epoch 73/100\n",
            "7/7 [==============================] - 0s 17ms/step - loss: 1.9671 - accuracy: 0.4286 - val_loss: 40.0594 - val_accuracy: 0.0000e+00\n",
            "Epoch 74/100\n",
            "7/7 [==============================] - 0s 18ms/step - loss: 1.0008 - accuracy: 0.5000 - val_loss: 44.0922 - val_accuracy: 0.0000e+00\n",
            "Epoch 75/100\n",
            "7/7 [==============================] - 0s 18ms/step - loss: 0.9141 - accuracy: 0.8571 - val_loss: 46.2307 - val_accuracy: 0.0000e+00\n",
            "Epoch 76/100\n",
            "7/7 [==============================] - 0s 17ms/step - loss: 1.3390 - accuracy: 0.6429 - val_loss: 38.4805 - val_accuracy: 0.0000e+00\n",
            "Epoch 77/100\n",
            "7/7 [==============================] - 0s 18ms/step - loss: 0.3623 - accuracy: 0.9286 - val_loss: 36.3161 - val_accuracy: 0.0000e+00\n",
            "Epoch 78/100\n",
            "7/7 [==============================] - 0s 17ms/step - loss: 0.9927 - accuracy: 0.5714 - val_loss: 37.4287 - val_accuracy: 0.0000e+00\n",
            "Epoch 79/100\n",
            "7/7 [==============================] - 0s 18ms/step - loss: 1.1272 - accuracy: 0.6429 - val_loss: 35.2570 - val_accuracy: 0.0000e+00\n",
            "Epoch 80/100\n",
            "7/7 [==============================] - 0s 17ms/step - loss: 1.4166 - accuracy: 0.5000 - val_loss: 40.6014 - val_accuracy: 0.0000e+00\n",
            "Epoch 81/100\n",
            "7/7 [==============================] - 0s 16ms/step - loss: 1.3705 - accuracy: 0.6429 - val_loss: 44.9417 - val_accuracy: 0.0000e+00\n",
            "Epoch 82/100\n",
            "7/7 [==============================] - 0s 18ms/step - loss: 1.8296 - accuracy: 0.5000 - val_loss: 47.7128 - val_accuracy: 0.0000e+00\n",
            "Epoch 83/100\n",
            "7/7 [==============================] - 0s 18ms/step - loss: 1.2578 - accuracy: 0.7143 - val_loss: 49.1683 - val_accuracy: 0.0000e+00\n",
            "Epoch 84/100\n",
            "7/7 [==============================] - 0s 18ms/step - loss: 1.1919 - accuracy: 0.5000 - val_loss: 51.1484 - val_accuracy: 0.0000e+00\n",
            "Epoch 85/100\n",
            "7/7 [==============================] - 0s 18ms/step - loss: 1.1843 - accuracy: 0.6429 - val_loss: 51.9859 - val_accuracy: 0.0000e+00\n",
            "Epoch 86/100\n",
            "7/7 [==============================] - 0s 19ms/step - loss: 1.1718 - accuracy: 0.7143 - val_loss: 45.6292 - val_accuracy: 0.0000e+00\n",
            "Epoch 87/100\n",
            "7/7 [==============================] - 0s 17ms/step - loss: 1.1877 - accuracy: 0.5000 - val_loss: 42.1728 - val_accuracy: 0.0000e+00\n",
            "Epoch 88/100\n",
            "7/7 [==============================] - 0s 19ms/step - loss: 1.0657 - accuracy: 0.5714 - val_loss: 45.9885 - val_accuracy: 0.0000e+00\n",
            "Epoch 89/100\n",
            "7/7 [==============================] - 0s 18ms/step - loss: 1.2459 - accuracy: 0.6429 - val_loss: 47.9478 - val_accuracy: 0.0000e+00\n",
            "Epoch 90/100\n",
            "7/7 [==============================] - 0s 17ms/step - loss: 0.9695 - accuracy: 0.6429 - val_loss: 50.2855 - val_accuracy: 0.0000e+00\n",
            "Epoch 91/100\n",
            "7/7 [==============================] - 0s 18ms/step - loss: 1.7436 - accuracy: 0.5000 - val_loss: 50.3495 - val_accuracy: 0.0000e+00\n",
            "Epoch 92/100\n",
            "7/7 [==============================] - 0s 17ms/step - loss: 1.9219 - accuracy: 0.5000 - val_loss: 46.5058 - val_accuracy: 0.0000e+00\n",
            "Epoch 93/100\n",
            "7/7 [==============================] - 0s 17ms/step - loss: 1.1105 - accuracy: 0.4286 - val_loss: 44.6657 - val_accuracy: 0.0000e+00\n",
            "Epoch 94/100\n",
            "7/7 [==============================] - 0s 18ms/step - loss: 0.7776 - accuracy: 0.7857 - val_loss: 42.3098 - val_accuracy: 0.0000e+00\n",
            "Epoch 95/100\n",
            "7/7 [==============================] - 0s 17ms/step - loss: 2.2521 - accuracy: 0.5000 - val_loss: 39.3276 - val_accuracy: 0.0000e+00\n",
            "Epoch 96/100\n",
            "7/7 [==============================] - 0s 19ms/step - loss: 0.4012 - accuracy: 0.7857 - val_loss: 40.9028 - val_accuracy: 0.0000e+00\n",
            "Epoch 97/100\n",
            "7/7 [==============================] - 0s 18ms/step - loss: 1.2978 - accuracy: 0.6429 - val_loss: 39.7873 - val_accuracy: 0.0000e+00\n",
            "Epoch 98/100\n",
            "7/7 [==============================] - 0s 17ms/step - loss: 2.1930 - accuracy: 0.1429 - val_loss: 40.3802 - val_accuracy: 0.0000e+00\n",
            "Epoch 99/100\n",
            "7/7 [==============================] - 0s 18ms/step - loss: 1.6520 - accuracy: 0.2143 - val_loss: 40.2999 - val_accuracy: 0.0000e+00\n",
            "Epoch 100/100\n",
            "7/7 [==============================] - 0s 18ms/step - loss: 1.5277 - accuracy: 0.6429 - val_loss: 46.7382 - val_accuracy: 0.0000e+00\n"
          ]
        }
      ],
      "source": [
        "\n",
        "model = tf.keras.Sequential([\n",
        "    tf.keras.layers.Conv2D(filters=16, kernel_size=(3,3), activation='relu',input_shape=(128, 128, 3)),\n",
        "    tf.keras.layers.Conv2D(filters=32, kernel_size=(3,3), activation='relu'),\n",
        "    tf.keras.layers.MaxPool2D(pool_size=(2,2)),\n",
        "    tf.keras.layers.BatchNormalization(axis=-1),\n",
        "\n",
        "    tf.keras.layers.Conv2D(filters=64, kernel_size=(3,3), activation='relu'),\n",
        "    tf.keras.layers.Conv2D(filters=64, kernel_size=(3,3), activation='relu'),\n",
        "\n",
        "    tf.keras.layers.Conv2D(filters=128, kernel_size=(3,3), activation='relu'),\n",
        "    tf.keras.layers.MaxPool2D(pool_size=(2,2)),\n",
        "    tf.keras.layers.MaxPool2D(pool_size=(2,2)),\n",
        "\n",
        "    tf.keras.layers.BatchNormalization(axis=-1),\n",
        "\n",
        "    tf.keras.layers.Flatten(),\n",
        "    tf.keras.layers.BatchNormalization(axis=-1),\n",
        "\n",
        "    tf.keras.layers.Dense(512,activation='relu'),\n",
        "    tf.keras.layers.BatchNormalization() ,\n",
        "    tf.keras.layers.Dropout(rate=0.5),\n",
        "\n",
        "    tf.keras.layers.Dense(10,activation='softmax')\n",
        "\n",
        "])\n",
        "\n",
        "learning_rate = 0.001\n",
        "epochs=20\n",
        "opt= tf.keras.optimizers.Adam(learning_rate=learning_rate , decay=learning_rate/(epochs*0.5))\n",
        "model.compile(loss='sparse_categorical_crossentropy',optimizer=opt,metrics=['accuracy'])\n",
        "\n",
        "\n",
        "aug = tf.keras.preprocessing.image.ImageDataGenerator(\n",
        "          rotation_range=10,\n",
        "          zoom_range=0.15,\n",
        "          width_shift_range=0.1,\n",
        "          height_shift_range=0.1,\n",
        "          shear_range=0.15,\n",
        "          horizontal_flip= False,\n",
        "          vertical_flip= False,\n",
        "          fill_mode=\"nearest\"\n",
        "          )\n",
        "          \n",
        "\n",
        "x_train = tf.random.normal((14, 128, 128, 3))\n",
        "y_train = tf.random.uniform((14, ), maxval=3, dtype=tf.int32)\n",
        "\n",
        "x_valid = tf.random.normal((14, 128, 128, 3))\n",
        "y_valid = tf.random.uniform((14, ), maxval=3, dtype=tf.int32)\n",
        "history = model.fit(aug.flow(x_train, y_train, batch_size=2), epochs=100,validation_data=(x_valid,y_valid))"
      ]
    },
    {
      "cell_type": "code",
      "execution_count": null,
      "metadata": {
        "id": "vlASqoZQPx2E"
      },
      "outputs": [],
      "source": []
    },
    {
      "cell_type": "code",
      "execution_count": null,
      "metadata": {
        "id": "oyAmZQQ0cVuY"
      },
      "outputs": [],
      "source": []
    },
    {
      "cell_type": "code",
      "execution_count": null,
      "metadata": {
        "id": "_KveglzhX6bo"
      },
      "outputs": [],
      "source": [
        "# layers to being non-trainable)\n",
        "print(\"[INFO] compiling model...\")\n",
        "opt = SGD(lr=1e-4, momentum=0.9)\n",
        "model.compile(loss=\"categorical_crossentropy\", optimizer=opt,\n",
        "\tmetrics=[\"accuracy\"])\n",
        "# train the head of the network for a few epochs (all other layers\n",
        "# are frozen) -- this will allow the new FC layers to start to become\n",
        "# initialized with actual \"learned\" values versus pure random\n",
        "print(\"[INFO] training head...\")\n",
        "\n",
        "aug = tf.keras.preprocessing.image.ImageDataGenerator(\n",
        "          rotation_range=10,\n",
        "          zoom_range=0.15,\n",
        "          width_shift_range=0.1,\n",
        "          height_shift_range=0.1,\n",
        "          shear_range=0.15,\n",
        "          horizontal_flip= False,\n",
        "          vertical_flip= False,\n",
        "          fill_mode=\"nearest\"\n",
        "          )\n",
        "valAug = tf.keras.preprocessing.image.ImageDataGenerator(\n",
        "          rotation_range=10,\n",
        "          zoom_range=0.15,\n",
        "          width_shift_range=0.1,\n",
        "          height_shift_range=0.1,\n",
        "          shear_range=0.15,\n",
        "          horizontal_flip= False,\n",
        "          vertical_flip= False,\n",
        "          fill_mode=\"nearest\"\n",
        "          )         \n",
        "\n",
        "x_train = tf.random.normal((15, 128, 128, 1))\n",
        "y_train = tf.random.uniform((15, ), maxval=3, dtype=tf.int32)\n",
        "\n",
        "x_valid = tf.random.normal((15, 128, 128, 1))\n",
        "y_valid = tf.random.uniform((15, ), maxval=3, dtype=tf.int32)\n",
        "model.fit(\n",
        "\tx=aug.flow(x_train, y_train,batch_size=32),\n",
        "\tsteps_per_epoch=len(x_train) // 32,\n",
        "\tvalidation_data=valAug.flow(x_valid, y_valid),\n",
        "\tvalidation_steps=len(x_valid) // 32,\n",
        "\tepochs=20)\n"
      ]
    },
    {
      "cell_type": "code",
      "execution_count": null,
      "metadata": {
        "id": "19JB49TxYEfA"
      },
      "outputs": [],
      "source": []
    },
    {
      "cell_type": "code",
      "execution_count": null,
      "metadata": {
        "id": "yaQbu3jsYEN4"
      },
      "outputs": [],
      "source": [
        "class Conv2Plus1D(keras.layers.Layer):\n",
        "  def __init__(self, filters, kernel_size, padding):\n",
        "    \"\"\"\n",
        "      A sequence of convolutional layers that first apply the convolution operation over the\n",
        "      spatial dimensions, and then the temporal dimension. \n",
        "    \"\"\"\n",
        "    super().__init__()\n",
        "    self.seq = keras.Sequential([  \n",
        "        # Spatial decomposition\n",
        "        layers.Conv3D(filters=filters,\n",
        "                      kernel_size=(1, kernel_size[1], kernel_size[2]),\n",
        "                      padding=padding),\n",
        "        # Temporal decomposition\n",
        "        layers.Conv3D(filters=filters, \n",
        "                      kernel_size=(kernel_size[0], 1, 1),\n",
        "                      padding=padding)\n",
        "        ])\n",
        "\n",
        "  def call(self, x):\n",
        "    return self.seq(x)"
      ]
    },
    {
      "cell_type": "code",
      "execution_count": null,
      "metadata": {
        "id": "maspbcVCUzJx"
      },
      "outputs": [],
      "source": [
        "class ResidualMain(keras.layers.Layer):\n",
        "  \"\"\"\n",
        "    Residual block of the model with convolution, layer normalization, and the\n",
        "    activation function, ReLU.\n",
        "  \"\"\"\n",
        "  def __init__(self, filters, kernel_size):\n",
        "    super().__init__()\n",
        "    self.seq = keras.Sequential([\n",
        "        Conv2Plus1D(filters=filters,\n",
        "                    kernel_size=kernel_size,\n",
        "                    padding='same'),\n",
        "        layers.LayerNormalization(),\n",
        "        layers.ReLU(),\n",
        "        Conv2Plus1D(filters=filters, \n",
        "                    kernel_size=kernel_size,\n",
        "                    padding='same'),\n",
        "        layers.LayerNormalization()\n",
        "    ])\n",
        "\n",
        "  def call(self, x):\n",
        "    return self.seq(x)"
      ]
    },
    {
      "cell_type": "code",
      "execution_count": null,
      "metadata": {
        "id": "CWp37XyASvIU"
      },
      "outputs": [],
      "source": [
        "class Project(keras.layers.Layer):\n",
        "  \"\"\"\n",
        "    Project certain dimensions of the tensor as the data is passed through different \n",
        "    sized filters and downsampled. \n",
        "  \"\"\"\n",
        "  def __init__(self, units):\n",
        "    super().__init__()\n",
        "    self.seq = keras.Sequential([\n",
        "        layers.Dense(units),\n",
        "        layers.LayerNormalization()\n",
        "    ])\n",
        "\n",
        "  def call(self, x):\n",
        "    return self.seq(x)"
      ]
    },
    {
      "cell_type": "code",
      "execution_count": null,
      "metadata": {
        "id": "_8mMLWUhSyUR"
      },
      "outputs": [],
      "source": [
        "def add_residual_block(input, filters, kernel_size):\n",
        "  \"\"\"\n",
        "    Add residual blocks to the model. If the last dimensions of the input data\n",
        "    and filter size does not match, project it such that last dimension matches.\n",
        "  \"\"\"\n",
        "  out = ResidualMain(filters, \n",
        "                     kernel_size)(input)\n",
        "\n",
        "  res = input\n",
        "  # Using the Keras functional APIs, project the last dimension of the tensor to\n",
        "  # match the new filter size\n",
        "  if out.shape[-1] != input.shape[-1]:\n",
        "    res = Project(out.shape[-1])(res)\n",
        "\n",
        "  return layers.add([res, out])"
      ]
    },
    {
      "cell_type": "code",
      "execution_count": null,
      "metadata": {
        "id": "sYpJSMR7S0H4"
      },
      "outputs": [],
      "source": [
        "class ResizeVideo(keras.layers.Layer):\n",
        "  def __init__(self, height, width):\n",
        "    super().__init__()\n",
        "    self.height = height\n",
        "    self.width = width\n",
        "    self.resizing_layer = layers.Resizing(self.height, self.width)\n",
        "\n",
        "  def call(self, video):\n",
        "    \"\"\"\n",
        "      Use the einops library to resize the tensor.  \n",
        "\n",
        "      Args:\n",
        "        video: Tensor representation of the video, in the form of a set of frames.\n",
        "\n",
        "      Return:\n",
        "        A downsampled size of the video according to the new height and width it should be resized to.\n",
        "    \"\"\"\n",
        "    # b stands for batch size, t stands for time, h stands for height, \n",
        "    # w stands for width, and c stands for the number of channels.\n",
        "    old_shape = einops.parse_shape(video, 'b t h w c')\n",
        "    images = einops.rearrange(video, 'b t h w c -> (b t) h w c')\n",
        "    images = self.resizing_layer(images)\n",
        "    videos = einops.rearrange(\n",
        "        images, '(b t) h w c -> b t h w c',\n",
        "        t = old_shape['t'])\n",
        "    return videos"
      ]
    },
    {
      "cell_type": "code",
      "execution_count": null,
      "metadata": {
        "id": "STIOk5bbTqEv"
      },
      "outputs": [],
      "source": [
        "HEIGHT=128\n",
        "WIDTH=128"
      ]
    },
    {
      "cell_type": "code",
      "execution_count": null,
      "metadata": {
        "id": "7tPGpYWwS4wv"
      },
      "outputs": [],
      "source": [
        "input_shape = (200, 14, HEIGHT, WIDTH, 3)\n",
        "input = layers.Input(shape=(input_shape[1:]))\n",
        "x = input\n",
        "\n",
        "x = Conv2Plus1D(filters=16, kernel_size=(3, 7, 7), padding='same')(x)\n",
        "x = layers.BatchNormalization()(x)\n",
        "x = layers.ReLU()(x)\n",
        "x = ResizeVideo(HEIGHT // 2, WIDTH // 2)(x)\n",
        "\n",
        "# Block 1\n",
        "x = add_residual_block(x, 16, (3, 3, 3))\n",
        "x = ResizeVideo(HEIGHT // 4, WIDTH // 4)(x)\n",
        "\n",
        "# Block 2\n",
        "x = add_residual_block(x, 32, (3, 3, 3))\n",
        "x = ResizeVideo(HEIGHT // 8, WIDTH // 8)(x)\n",
        "\n",
        "# Block 3\n",
        "x = add_residual_block(x, 64, (3, 3, 3))\n",
        "x = ResizeVideo(HEIGHT // 16, WIDTH // 16)(x)\n",
        "\n",
        "# Block 4\n",
        "x = add_residual_block(x, 128, (3, 3, 3))\n",
        "\n",
        "x = layers.GlobalAveragePooling3D()(x)\n",
        "x = layers.Flatten()(x)\n",
        "x = layers.Dense(10)(x)\n",
        "\n",
        "model = keras.Model(input, x)"
      ]
    },
    {
      "cell_type": "code",
      "execution_count": null,
      "metadata": {
        "id": "wojf3ItN2r0b"
      },
      "outputs": [],
      "source": [
        "\n",
        "# from keras.preprocessing.image import ImageDataGenerator\n",
        "# from keras.applications.imagenet_utils import preprocess_input\n",
        "\n",
        "# train_gen = ImageDataGenerator(\n",
        "#             preprocessing_function=preprocess_input,\n",
        "#             rotation_range=40, \n",
        "#             width_shift_range=0.2,\n",
        "#             height_shift_range=0.2,\n",
        "#             shear_range=0.2,\n",
        "#             zoom_range=0.2,\n",
        "#             horizontal_flip=True,\n",
        "#             fill_mode='nearest')\n",
        "\n",
        "# # fit training generator\n",
        "  \n",
        "# val_gen= ImageDataGenerator(\n",
        "#             preprocessing_function=preprocess_input,\n",
        "#             rotation_range=40, \n",
        "#             width_shift_range=0.2,\n",
        "#             height_shift_range=0.2,\n",
        "#             shear_range=0.2,\n",
        "#             zoom_range=0.2,\n",
        "#             horizontal_flip=True,\n",
        "#             fill_mode='nearest')\n",
        "\n",
        "# # fit validation generator\n",
        "\n",
        "# aug_x_train = tf.random.normal((14, 128, 128, 3))\n",
        "# aug_y_train = tf.random.uniform((14, ), maxval=3, dtype=tf.int32)\n",
        "\n",
        "# aug_x_valid = tf.random.normal((14, 128, 128, 3))\n",
        "# aug_y_valid = tf.random.uniform((14, ), maxval=3, dtype=tf.int32)\n",
        "# val_gen.fit(aug_x_valid)\n",
        "# train_gen.fit(aug_x_train)\n"
      ]
    },
    {
      "cell_type": "code",
      "execution_count": null,
      "metadata": {
        "id": "nTlFamWMS-qp"
      },
      "outputs": [],
      "source": [
        "# frames, label = next(iter(train_gen))\n",
        "model.build(x_train)"
      ]
    },
    {
      "cell_type": "code",
      "execution_count": null,
      "metadata": {
        "colab": {
          "base_uri": "https://localhost:8080/",
          "height": 1000
        },
        "id": "AkLP6c3ATMYK",
        "outputId": "1ced7715-3697-43b3-ab7c-09298cb4bdb7"
      },
      "outputs": [
        {
          "data": {
            "image/png": "[encoded data removed]",
            "text/plain": [
              "<IPython.core.display.Image object>"
            ]
          },
          "execution_count": 74,
          "metadata": {},
          "output_type": "execute_result"
        }
      ],
      "source": [
        "# Visualize the model\n",
        "keras.utils.plot_model(model, expand_nested=True, dpi=60, show_shapes=True)"
      ]
    },
    {
      "cell_type": "code",
      "execution_count": null,
      "metadata": {
        "id": "bfms4IqEToCs"
      },
      "outputs": [],
      "source": [
        "# initialize the training data augmentation object\n",
        "trainAug = ImageDataGenerator(\n",
        "\trotation_range=30,\n",
        "\tzoom_range=0.15,\n",
        "\twidth_shift_range=0.2,\n",
        "\theight_shift_range=0.2,\n",
        "\tshear_range=0.15,\n",
        "\thorizontal_flip=True,\n",
        "\tfill_mode=\"nearest\")\n",
        "# initialize the validation/testing data augmentation object (which\n",
        "# we'll be adding mean subtraction to)\n",
        "valAug = ImageDataGenerator()\n",
        "# define the ImageNet mean subtraction (in RGB order) and set the\n",
        "# the mean subtraction value for each of the data augmentation\n",
        "# objects\n",
        "mean = np.array([123.68, 116.779, 103.939], dtype=\"float32\")\n",
        "trainAug.mean = mean\n",
        "valAug.mean = mean"
      ]
    },
    {
      "cell_type": "code",
      "execution_count": null,
      "metadata": {
        "id": "QtiggZ1vTMSa"
      },
      "outputs": [],
      "source": [
        "model.compile(loss = keras.losses.CategoricalCrossentropy(from_logits=True), \n",
        "              optimizer = keras.optimizers.Adam(learning_rate = 0.0001), \n",
        "              metrics = ['accuracy'])"
      ]
    },
    {
      "cell_type": "code",
      "execution_count": null,
      "metadata": {
        "colab": {
          "base_uri": "https://localhost:8080/",
          "height": 415
        },
        "id": "F-M5EGMLQ6zQ",
        "outputId": "0f137825-8432-408b-d4f4-6f7568e5c619"
      },
      "outputs": [
        {
          "ename": "ValueError",
          "evalue": "ignored",
          "output_type": "error",
          "traceback": [
            "\u001b[0;31m---------------------------------------------------------------------------\u001b[0m",
            "\u001b[0;31mValueError\u001b[0m                                Traceback (most recent call last)",
            "\u001b[0;32m<ipython-input-77-dcea450518f1>\u001b[0m in \u001b[0;36m<module>\u001b[0;34m\u001b[0m\n\u001b[1;32m      1\u001b[0m model.fit(\n\u001b[0;32m----> 2\u001b[0;31m         \u001b[0mx\u001b[0m\u001b[0;34m=\u001b[0m\u001b[0mtrainAug\u001b[0m\u001b[0;34m.\u001b[0m\u001b[0mflow\u001b[0m\u001b[0;34m(\u001b[0m\u001b[0mx_train\u001b[0m\u001b[0;34m,\u001b[0m \u001b[0my_train\u001b[0m\u001b[0;34m,\u001b[0m \u001b[0mbatch_size\u001b[0m\u001b[0;34m=\u001b[0m\u001b[0;36m32\u001b[0m\u001b[0;34m)\u001b[0m\u001b[0;34m,\u001b[0m\u001b[0;34m\u001b[0m\u001b[0;34m\u001b[0m\u001b[0m\n\u001b[0m\u001b[1;32m      3\u001b[0m         \u001b[0msteps_per_epoch\u001b[0m\u001b[0;34m=\u001b[0m\u001b[0mlen\u001b[0m\u001b[0;34m(\u001b[0m\u001b[0mx_train\u001b[0m\u001b[0;34m)\u001b[0m \u001b[0;34m//\u001b[0m \u001b[0;36m32\u001b[0m\u001b[0;34m,\u001b[0m\u001b[0;34m\u001b[0m\u001b[0;34m\u001b[0m\u001b[0m\n\u001b[1;32m      4\u001b[0m         \u001b[0mvalidation_data\u001b[0m\u001b[0;34m=\u001b[0m\u001b[0mvalAug\u001b[0m\u001b[0;34m.\u001b[0m\u001b[0mflow\u001b[0m\u001b[0;34m(\u001b[0m\u001b[0mx_valid\u001b[0m\u001b[0;34m,\u001b[0m \u001b[0my_valid\u001b[0m\u001b[0;34m)\u001b[0m\u001b[0;34m,\u001b[0m\u001b[0;34m\u001b[0m\u001b[0;34m\u001b[0m\u001b[0m\n\u001b[1;32m      5\u001b[0m         \u001b[0mvalidation_steps\u001b[0m\u001b[0;34m=\u001b[0m\u001b[0mlen\u001b[0m\u001b[0;34m(\u001b[0m\u001b[0mx_valid\u001b[0m\u001b[0;34m)\u001b[0m \u001b[0;34m//\u001b[0m \u001b[0;36m32\u001b[0m\u001b[0;34m,\u001b[0m\u001b[0;34m\u001b[0m\u001b[0;34m\u001b[0m\u001b[0m\n",
            "\u001b[0;32m/usr/local/lib/python3.7/dist-packages/keras/preprocessing/image.py\u001b[0m in \u001b[0;36mflow\u001b[0;34m(self, x, y, batch_size, shuffle, sample_weight, seed, save_to_dir, save_prefix, save_format, ignore_class_split, subset)\u001b[0m\n\u001b[1;32m   1382\u001b[0m         \u001b[0mignore_class_split\u001b[0m\u001b[0;34m=\u001b[0m\u001b[0mignore_class_split\u001b[0m\u001b[0;34m,\u001b[0m\u001b[0;34m\u001b[0m\u001b[0;34m\u001b[0m\u001b[0m\n\u001b[1;32m   1383\u001b[0m         \u001b[0msubset\u001b[0m\u001b[0;34m=\u001b[0m\u001b[0msubset\u001b[0m\u001b[0;34m,\u001b[0m\u001b[0;34m\u001b[0m\u001b[0;34m\u001b[0m\u001b[0m\n\u001b[0;32m-> 1384\u001b[0;31m         dtype=self.dtype)\n\u001b[0m\u001b[1;32m   1385\u001b[0m \u001b[0;34m\u001b[0m\u001b[0m\n\u001b[1;32m   1386\u001b[0m   def flow_from_directory(self,\n",
            "\u001b[0;32m/usr/local/lib/python3.7/dist-packages/keras/preprocessing/image.py\u001b[0m in \u001b[0;36m__init__\u001b[0;34m(self, x, y, image_data_generator, batch_size, shuffle, sample_weight, seed, data_format, save_to_dir, save_prefix, save_format, subset, ignore_class_split, dtype)\u001b[0m\n\u001b[1;32m    675\u001b[0m           \u001b[0;34m'Input data in `NumpyArrayIterator` '\u001b[0m\u001b[0;34m\u001b[0m\u001b[0;34m\u001b[0m\u001b[0m\n\u001b[1;32m    676\u001b[0m           \u001b[0;34m'should have rank 4. You passed an array '\u001b[0m\u001b[0;34m\u001b[0m\u001b[0;34m\u001b[0m\u001b[0m\n\u001b[0;32m--> 677\u001b[0;31m           'with shape', self.x.shape)\n\u001b[0m\u001b[1;32m    678\u001b[0m     \u001b[0mchannels_axis\u001b[0m \u001b[0;34m=\u001b[0m \u001b[0;36m3\u001b[0m \u001b[0;32mif\u001b[0m \u001b[0mdata_format\u001b[0m \u001b[0;34m==\u001b[0m \u001b[0;34m'channels_last'\u001b[0m \u001b[0;32melse\u001b[0m \u001b[0;36m1\u001b[0m\u001b[0;34m\u001b[0m\u001b[0;34m\u001b[0m\u001b[0m\n\u001b[1;32m    679\u001b[0m     \u001b[0;32mif\u001b[0m \u001b[0mself\u001b[0m\u001b[0;34m.\u001b[0m\u001b[0mx\u001b[0m\u001b[0;34m.\u001b[0m\u001b[0mshape\u001b[0m\u001b[0;34m[\u001b[0m\u001b[0mchannels_axis\u001b[0m\u001b[0;34m]\u001b[0m \u001b[0;32mnot\u001b[0m \u001b[0;32min\u001b[0m \u001b[0;34m{\u001b[0m\u001b[0;36m1\u001b[0m\u001b[0;34m,\u001b[0m \u001b[0;36m3\u001b[0m\u001b[0;34m,\u001b[0m \u001b[0;36m4\u001b[0m\u001b[0;34m}\u001b[0m\u001b[0;34m:\u001b[0m\u001b[0;34m\u001b[0m\u001b[0;34m\u001b[0m\u001b[0m\n",
            "\u001b[0;31mValueError\u001b[0m: ('Input data in `NumpyArrayIterator` should have rank 4. You passed an array with shape', (200, 14, 128, 128, 3))"
          ]
        }
      ],
      "source": [
        "model.fit(\n",
        "\tx=trainAug.flow(x_train, y_train, batch_size=32),\n",
        "\tsteps_per_epoch=len(x_train) // 32,\n",
        "\tvalidation_data=valAug.flow(x_valid, y_valid),\n",
        "\tvalidation_steps=len(x_valid) // 32,\n",
        "\tepochs=30)"
      ]
    },
    {
      "cell_type": "code",
      "execution_count": null,
      "metadata": {
        "id": "6TZdnLm4SHo4"
      },
      "outputs": [],
      "source": []
    }
  ],
  "metadata": {
    "accelerator": "GPU",
    "colab": {
      "collapsed_sections": [
        "lbZQl9ROrGRa"
      ],
      "provenance": []
    },
    "kernelspec": {
      "display_name": "Python 3.10.5 64-bit",
      "language": "python",
      "name": "python3"
    },
    "language_info": {
      "codemirror_mode": {
        "name": "ipython",
        "version": 3
      },
      "file_extension": ".py",
      "mimetype": "text/x-python",
      "name": "python",
      "nbconvert_exporter": "python",
      "pygments_lexer": "ipython3",
      "version": "3.10.5 (tags/v3.10.5:f377153, Jun  6 2022, 16:14:13) [MSC v.1929 64 bit (AMD64)]"
    },
    "vscode": {
      "interpreter": {
        "hash": "2c1d53054155cd49b2a96c2bfed63d0e720c7c155830a1fd4135e6a26f0aebed"
      }
    }
  },
  "nbformat": 4,
  "nbformat_minor": 0
}
