{
  "cells": [
    {
      "cell_type": "code",
      "execution_count": null,
      "metadata": {
        "id": "y2tRKcK-XR15"
      },
      "outputs": [],
      "source": []
    },
    {
      "cell_type": "code",
      "execution_count": 1,
      "metadata": {
        "id": "q8GrI018TZjL"
      },
      "outputs": [],
      "source": [
        "# !pip install remotezip tqdm opencv-python einops\n",
        "import tqdm\n",
        "import random\n",
        "import pathlib\n",
        "import itertools\n",
        "import collections\n",
        "\n",
        "import cv2\n",
        "# import einops \n",
        "import numpy as np\n",
        "# import remotezip as rz\n",
        "import seaborn as sns\n",
        "import matplotlib.pyplot as plt\n",
        "\n",
        "import tensorflow as tf\n",
        "import keras\n",
        "from keras import layers"
      ]
    },
    {
      "cell_type": "code",
      "execution_count": 2,
      "metadata": {
        "colab": {
          "base_uri": "https://localhost:8080/",
          "height": 34
        },
        "id": "0MM3zCC0rGRE",
        "outputId": "d744fafa-f900-405b-df2a-e98081202577"
      },
      "outputs": [
        {
          "data": {
            "application/javascript": "IPython.notebook.set_autosave_interval(5000)"
          },
          "metadata": {},
          "output_type": "display_data"
        },
        {
          "name": "stdout",
          "output_type": "stream",
          "text": [
            "Autosaving every 5 seconds\n"
          ]
        }
      ],
      "source": [
        " # Libraries \n",
        "%autosave 5\n",
        "import warnings \n",
        "warnings.filterwarnings('ignore')\n",
        "import pandas as pd\n",
        "import numpy as np\n",
        "import matplotlib.pyplot as plt\n",
        "import seaborn as sns\n",
        "import tensorflow as tf\n",
        "import os\n",
        "from tensorflow.keras.utils import load_img, img_to_array,array_to_img\n",
        "%matplotlib inline\n",
        "\n",
        "from keras.preprocessing.image import ImageDataGenerator\n",
        "from tensorflow.keras import Model\n",
        "from keras.applications.imagenet_utils import preprocess_input\n",
        "\n",
        "import keras\n",
        "from keras.models import Sequential\n",
        "from keras.applications.vgg16 import VGG16\n",
        "from keras.layers import Dense, InputLayer, Dropout, Flatten,GRU,Input\n",
        "from keras.layers import Conv2D, MaxPooling2D, GlobalMaxPooling2D,TimeDistributed,MaxPool2D,AveragePooling2D\n",
        "from keras.preprocessing import image\n",
        "import numpy as np\n",
        "import pandas as pd\n",
        "import matplotlib.pyplot as plt\n",
        "from tqdm import tqdm\n",
        "from sklearn.model_selection import train_test_split\n",
        "from keras.applications import ResNet50,VGG16\n",
        "from keras.models import Model\n",
        "\n"
      ]
    },
    {
      "cell_type": "code",
      "execution_count": 3,
      "metadata": {
        "colab": {
          "base_uri": "https://localhost:8080/"
        },
        "id": "-x2z5knBzzWb",
        "outputId": "fc13d52e-b789-4f03-dfca-2ff79396d6cc"
      },
      "outputs": [
        {
          "name": "stdout",
          "output_type": "stream",
          "text": [
            "Drive already mounted at /content/drive; to attempt to forcibly remount, call drive.mount(\"/content/drive\", force_remount=True).\n"
          ]
        }
      ],
      "source": [
        "from google.colab import drive\n",
        "drive.mount('/content/drive')"
      ]
    },
    {
      "cell_type": "markdown",
      "metadata": {
        "id": "2lRsAAEOXmpU"
      },
      "source": [
        "## Load Data Tensors"
      ]
    },
    {
      "cell_type": "code",
      "execution_count": 4,
      "metadata": {
        "id": "a60Zrst4XnOE"
      },
      "outputs": [],
      "source": [
        "x_train = np.load('/content/drive/MyDrive/tensors_files/x_train_1-tensor.npy', allow_pickle=True)\n",
        "x_valid = np.load('/content/drive/MyDrive/tensors_files/x_valid_1-tensor.npy', allow_pickle=True)\n",
        "y_train = np.load('/content/drive/MyDrive/tensors_files/y_train_1-tensor.npy', allow_pickle=True)\n",
        "y_valid = np.load('/content/drive/MyDrive/tensors_files/y_valid_1-tensor.npy', allow_pickle=True)"
      ]
    },
    {
      "cell_type": "code",
      "execution_count": 17,
      "metadata": {
        "colab": {
          "base_uri": "https://localhost:8080/"
        },
        "id": "0xy7RCJ7pZTI",
        "outputId": "6f4cfa01-6974-4a45-fc1b-0241a21167a7"
      },
      "outputs": [
        {
          "data": {
            "text/plain": [
              "(900, 9, 128, 128, 3)"
            ]
          },
          "execution_count": 17,
          "metadata": {},
          "output_type": "execute_result"
        }
      ],
      "source": [
        "x_train.shape"
      ]
    },
    {
      "cell_type": "code",
      "execution_count": 18,
      "metadata": {
        "colab": {
          "base_uri": "https://localhost:8080/"
        },
        "id": "rfHQ7u8PpcsY",
        "outputId": "f8cb9400-18be-4fcb-9beb-dd25c69ae1f3"
      },
      "outputs": [
        {
          "data": {
            "text/plain": [
              "(300, 9, 128, 128, 3)"
            ]
          },
          "execution_count": 18,
          "metadata": {},
          "output_type": "execute_result"
        }
      ],
      "source": [
        "x_valid.shape"
      ]
    },
    {
      "cell_type": "code",
      "execution_count": 19,
      "metadata": {
        "colab": {
          "base_uri": "https://localhost:8080/"
        },
        "id": "UVDJYKJsp2Rq",
        "outputId": "d8091e1f-a380-41bc-8f87-bdd5463d6f63"
      },
      "outputs": [
        {
          "data": {
            "text/plain": [
              "(299, 9, 128, 128, 3)"
            ]
          },
          "execution_count": 19,
          "metadata": {},
          "output_type": "execute_result"
        }
      ],
      "source": [
        "x_test.shape"
      ]
    },
    {
      "cell_type": "code",
      "execution_count": null,
      "metadata": {
        "id": "qz8AU2Zup2OP"
      },
      "outputs": [],
      "source": []
    },
    {
      "cell_type": "markdown",
      "metadata": {
        "id": "LLi5SIlNX80d"
      },
      "source": []
    },
    {
      "cell_type": "code",
      "execution_count": 5,
      "metadata": {
        "id": "W3TW08YiXusX"
      },
      "outputs": [],
      "source": [
        "model = Sequential()\n",
        "# input, with 64 convolutions for 9 images\n",
        "# that have (128, 128, 3) shape\n",
        "model.add(\n",
        "    TimeDistributed(\n",
        "        Conv2D(64, (3,3), \n",
        "            padding='same', strides=(2,2), activation='relu')\n",
        "        ,input_shape = (9, 128, 128, 3)\n",
        "    )\n",
        ")\n",
        "model.add(Dropout(0.5))\n",
        "\n",
        "model.add(\n",
        "    TimeDistributed( \n",
        "        Conv2D(64, (3,3), \n",
        "            padding='same', strides=(2,2), activation='relu')\n",
        "    )\n",
        ")\n",
        "model.add(Dropout(0.5))\n",
        "\n",
        "model.add(\n",
        "    TimeDistributed(\n",
        "        MaxPooling2D((2,2), strides=(2,2))\n",
        "    )\n",
        ")\n",
        "# Second conv, 128\n",
        "model.add(\n",
        "    TimeDistributed(\n",
        "        Conv2D(128, (3,3),\n",
        "            padding='same', strides=(2,2), activation='relu')\n",
        "    )\n",
        ")\n",
        "model.add(Dropout(0.5))\n",
        "\n",
        "model.add(\n",
        "    TimeDistributed( \n",
        "        Conv2D(128, (3,3),\n",
        "            padding='same', strides=(2,2), activation='relu')\n",
        "    )\n",
        ")\n",
        "model.add(\n",
        "    TimeDistributed(\n",
        "        MaxPooling2D((2,2), strides=(2,2))\n",
        "    )\n",
        ")\n",
        "model.add(Flatten())\n",
        "model.add(Dense(10, activation='softmax'))\n"
      ]
    },
    {
      "cell_type": "code",
      "execution_count": 5,
      "metadata": {
        "id": "QrZO5OoeYNm5"
      },
      "outputs": [],
      "source": []
    },
    {
      "cell_type": "code",
      "execution_count": 6,
      "metadata": {
        "id": "EciWXZUCX_W4"
      },
      "outputs": [],
      "source": [
        "model.compile('adam', loss= 'categorical_crossentropy',metrics='accuracy')"
      ]
    },
    {
      "cell_type": "code",
      "execution_count": 7,
      "metadata": {
        "colab": {
          "base_uri": "https://localhost:8080/"
        },
        "id": "1maIVeJLYg3b",
        "outputId": "53def0e4-12c3-434a-e0a6-5a72b611d9fb"
      },
      "outputs": [
        {
          "name": "stdout",
          "output_type": "stream",
          "text": [
            "Epoch 1/69\n",
            "29/29 [==============================] - 126s 4s/step - loss: 2.3191 - accuracy: 0.1222 - val_loss: 2.2897 - val_accuracy: 0.1600\n",
            "Epoch 2/69\n",
            "29/29 [==============================] - 120s 4s/step - loss: 2.2673 - accuracy: 0.1533 - val_loss: 2.2641 - val_accuracy: 0.1633\n",
            "Epoch 3/69\n",
            "29/29 [==============================] - 115s 4s/step - loss: 2.2322 - accuracy: 0.1744 - val_loss: 2.1949 - val_accuracy: 0.2300\n",
            "Epoch 4/69\n",
            "29/29 [==============================] - 120s 4s/step - loss: 2.1372 - accuracy: 0.2156 - val_loss: 2.1658 - val_accuracy: 0.2200\n",
            "Epoch 5/69\n",
            "29/29 [==============================] - 113s 4s/step - loss: 2.0886 - accuracy: 0.2422 - val_loss: 2.1277 - val_accuracy: 0.2667\n",
            "Epoch 6/69\n",
            "29/29 [==============================] - 122s 4s/step - loss: 2.0075 - accuracy: 0.2778 - val_loss: 2.0427 - val_accuracy: 0.3600\n",
            "Epoch 7/69\n",
            "29/29 [==============================] - 115s 4s/step - loss: 1.8913 - accuracy: 0.3433 - val_loss: 1.9509 - val_accuracy: 0.3867\n",
            "Epoch 8/69\n",
            "29/29 [==============================] - 120s 4s/step - loss: 1.8092 - accuracy: 0.3600 - val_loss: 1.8162 - val_accuracy: 0.4567\n",
            "Epoch 9/69\n",
            "29/29 [==============================] - 120s 4s/step - loss: 1.6899 - accuracy: 0.4178 - val_loss: 1.6497 - val_accuracy: 0.5200\n",
            "Epoch 10/69\n",
            "29/29 [==============================] - 113s 4s/step - loss: 1.5122 - accuracy: 0.4744 - val_loss: 1.5454 - val_accuracy: 0.5933\n",
            "Epoch 11/69\n",
            "29/29 [==============================] - 122s 4s/step - loss: 1.3472 - accuracy: 0.5456 - val_loss: 1.4831 - val_accuracy: 0.5900\n",
            "Epoch 12/69\n",
            "29/29 [==============================] - 120s 4s/step - loss: 1.2562 - accuracy: 0.5678 - val_loss: 1.2015 - val_accuracy: 0.6867\n",
            "Epoch 13/69\n",
            "29/29 [==============================] - 120s 4s/step - loss: 1.0509 - accuracy: 0.6400 - val_loss: 1.0619 - val_accuracy: 0.7833\n",
            "Epoch 14/69\n",
            "29/29 [==============================] - 112s 4s/step - loss: 0.8414 - accuracy: 0.7133 - val_loss: 0.8740 - val_accuracy: 0.8467\n",
            "Epoch 15/69\n",
            "29/29 [==============================] - 120s 4s/step - loss: 0.7341 - accuracy: 0.7467 - val_loss: 0.7026 - val_accuracy: 0.8733\n",
            "Epoch 16/69\n",
            "29/29 [==============================] - 115s 4s/step - loss: 0.5952 - accuracy: 0.7878 - val_loss: 0.5425 - val_accuracy: 0.9100\n",
            "Epoch 17/69\n",
            "29/29 [==============================] - 119s 4s/step - loss: 0.4734 - accuracy: 0.8467 - val_loss: 0.4150 - val_accuracy: 0.9567\n",
            "Epoch 18/69\n",
            "29/29 [==============================] - 118s 4s/step - loss: 0.3312 - accuracy: 0.8944 - val_loss: 0.2796 - val_accuracy: 0.9600\n",
            "Epoch 19/69\n",
            "29/29 [==============================] - 113s 4s/step - loss: 0.2784 - accuracy: 0.9100 - val_loss: 0.2838 - val_accuracy: 0.9500\n",
            "Epoch 20/69\n",
            "29/29 [==============================] - 120s 4s/step - loss: 0.3728 - accuracy: 0.8867 - val_loss: 0.3188 - val_accuracy: 0.9533\n",
            "Epoch 21/69\n",
            "29/29 [==============================] - 115s 4s/step - loss: 0.3947 - accuracy: 0.8722 - val_loss: 0.3358 - val_accuracy: 0.9433\n",
            "Epoch 22/69\n",
            "29/29 [==============================] - 118s 4s/step - loss: 0.2654 - accuracy: 0.9244 - val_loss: 0.2632 - val_accuracy: 0.9600\n",
            "Epoch 23/69\n",
            "29/29 [==============================] - 111s 4s/step - loss: 0.2397 - accuracy: 0.9289 - val_loss: 0.1711 - val_accuracy: 0.9833\n",
            "Epoch 24/69\n",
            "29/29 [==============================] - 118s 4s/step - loss: 0.4744 - accuracy: 0.8611 - val_loss: 0.3073 - val_accuracy: 0.9767\n",
            "Epoch 25/69\n",
            "29/29 [==============================] - 112s 4s/step - loss: 0.2325 - accuracy: 0.9400 - val_loss: 0.1963 - val_accuracy: 0.9733\n",
            "Epoch 26/69\n",
            "29/29 [==============================] - 117s 4s/step - loss: 0.1493 - accuracy: 0.9500 - val_loss: 0.1416 - val_accuracy: 0.9833\n",
            "Epoch 27/69\n",
            "29/29 [==============================] - 112s 4s/step - loss: 0.1225 - accuracy: 0.9667 - val_loss: 0.1010 - val_accuracy: 0.9967\n",
            "Epoch 28/69\n",
            "29/29 [==============================] - 123s 4s/step - loss: 0.0719 - accuracy: 0.9800 - val_loss: 0.0813 - val_accuracy: 0.9933\n",
            "Epoch 29/69\n",
            "29/29 [==============================] - 117s 4s/step - loss: 0.0671 - accuracy: 0.9756 - val_loss: 0.0559 - val_accuracy: 0.9967\n",
            "Epoch 30/69\n",
            "29/29 [==============================] - 115s 4s/step - loss: 0.0570 - accuracy: 0.9811 - val_loss: 0.0571 - val_accuracy: 0.9967\n",
            "Epoch 31/69\n",
            "29/29 [==============================] - 119s 4s/step - loss: 0.0681 - accuracy: 0.9767 - val_loss: 0.0543 - val_accuracy: 0.9967\n",
            "Epoch 32/69\n",
            "29/29 [==============================] - 118s 4s/step - loss: 0.0587 - accuracy: 0.9811 - val_loss: 0.0553 - val_accuracy: 0.9933\n",
            "Epoch 33/69\n",
            "29/29 [==============================] - 115s 4s/step - loss: 0.0699 - accuracy: 0.9844 - val_loss: 0.0535 - val_accuracy: 0.9900\n",
            "Epoch 34/69\n",
            "29/29 [==============================] - 119s 4s/step - loss: 0.1489 - accuracy: 0.9533 - val_loss: 0.0797 - val_accuracy: 0.9800\n",
            "Epoch 35/69\n",
            "29/29 [==============================] - 116s 4s/step - loss: 0.2570 - accuracy: 0.9222 - val_loss: 0.1026 - val_accuracy: 0.9933\n",
            "Epoch 36/69\n",
            "29/29 [==============================] - 119s 4s/step - loss: 0.1706 - accuracy: 0.9533 - val_loss: 0.1139 - val_accuracy: 0.9833\n",
            "Epoch 37/69\n",
            "29/29 [==============================] - 119s 4s/step - loss: 0.1730 - accuracy: 0.9400 - val_loss: 0.1070 - val_accuracy: 0.9933\n",
            "Epoch 38/69\n",
            "29/29 [==============================] - 120s 4s/step - loss: 0.1100 - accuracy: 0.9622 - val_loss: 0.0762 - val_accuracy: 0.9900\n",
            "Epoch 39/69\n",
            "29/29 [==============================] - 120s 4s/step - loss: 0.1207 - accuracy: 0.9733 - val_loss: 0.0737 - val_accuracy: 0.9900\n",
            "Epoch 40/69\n",
            "29/29 [==============================] - 118s 4s/step - loss: 0.0566 - accuracy: 0.9833 - val_loss: 0.0697 - val_accuracy: 0.9900\n",
            "Epoch 41/69\n",
            "29/29 [==============================] - 117s 4s/step - loss: 0.0506 - accuracy: 0.9878 - val_loss: 0.0354 - val_accuracy: 0.9967\n",
            "Epoch 42/69\n",
            "29/29 [==============================] - 119s 4s/step - loss: 0.0384 - accuracy: 0.9900 - val_loss: 0.0412 - val_accuracy: 0.9933\n",
            "Epoch 43/69\n",
            "29/29 [==============================] - 117s 4s/step - loss: 0.0494 - accuracy: 0.9889 - val_loss: 0.0619 - val_accuracy: 0.9833\n",
            "Epoch 44/69\n",
            "29/29 [==============================] - 119s 4s/step - loss: 0.0495 - accuracy: 0.9833 - val_loss: 0.0449 - val_accuracy: 0.9933\n",
            "Epoch 45/69\n",
            "29/29 [==============================] - 119s 4s/step - loss: 0.0508 - accuracy: 0.9833 - val_loss: 0.0657 - val_accuracy: 0.9800\n",
            "Epoch 46/69\n",
            "29/29 [==============================] - 122s 4s/step - loss: 0.0774 - accuracy: 0.9722 - val_loss: 0.0754 - val_accuracy: 0.9833\n",
            "Epoch 47/69\n",
            "29/29 [==============================] - 120s 4s/step - loss: 0.2399 - accuracy: 0.9400 - val_loss: 0.1128 - val_accuracy: 0.9833\n",
            "Epoch 48/69\n",
            "29/29 [==============================] - 123s 4s/step - loss: 0.0850 - accuracy: 0.9767 - val_loss: 0.0537 - val_accuracy: 0.9967\n",
            "Epoch 49/69\n",
            "29/29 [==============================] - 118s 4s/step - loss: 0.0630 - accuracy: 0.9789 - val_loss: 0.0360 - val_accuracy: 1.0000\n",
            "Epoch 50/69\n",
            "29/29 [==============================] - 119s 4s/step - loss: 0.0360 - accuracy: 0.9856 - val_loss: 0.0358 - val_accuracy: 0.9967\n",
            "Epoch 51/69\n",
            "29/29 [==============================] - 120s 4s/step - loss: 0.0381 - accuracy: 0.9900 - val_loss: 0.0356 - val_accuracy: 0.9933\n",
            "Epoch 52/69\n",
            "29/29 [==============================] - 119s 4s/step - loss: 0.0437 - accuracy: 0.9844 - val_loss: 0.0273 - val_accuracy: 0.9933\n",
            "Epoch 53/69\n",
            "29/29 [==============================] - 122s 4s/step - loss: 0.0271 - accuracy: 0.9900 - val_loss: 0.0368 - val_accuracy: 0.9967\n",
            "Epoch 54/69\n",
            "29/29 [==============================] - 119s 4s/step - loss: 0.0364 - accuracy: 0.9922 - val_loss: 0.0278 - val_accuracy: 0.9967\n",
            "Epoch 55/69\n",
            "29/29 [==============================] - 120s 4s/step - loss: 0.0437 - accuracy: 0.9867 - val_loss: 0.0214 - val_accuracy: 0.9967\n",
            "Epoch 56/69\n",
            "29/29 [==============================] - 121s 4s/step - loss: 0.0246 - accuracy: 0.9911 - val_loss: 0.0167 - val_accuracy: 1.0000\n",
            "Epoch 57/69\n",
            "29/29 [==============================] - 121s 4s/step - loss: 0.0409 - accuracy: 0.9889 - val_loss: 0.0111 - val_accuracy: 1.0000\n",
            "Epoch 58/69\n",
            "29/29 [==============================] - 120s 4s/step - loss: 0.0239 - accuracy: 0.9911 - val_loss: 0.0142 - val_accuracy: 1.0000\n",
            "Epoch 59/69\n",
            "29/29 [==============================] - 120s 4s/step - loss: 0.0201 - accuracy: 0.9933 - val_loss: 0.0139 - val_accuracy: 1.0000\n",
            "Epoch 60/69\n",
            "29/29 [==============================] - 121s 4s/step - loss: 0.0808 - accuracy: 0.9833 - val_loss: 0.0246 - val_accuracy: 1.0000\n",
            "Epoch 61/69\n",
            "29/29 [==============================] - 118s 4s/step - loss: 0.0681 - accuracy: 0.9833 - val_loss: 0.0390 - val_accuracy: 0.9967\n",
            "Epoch 62/69\n",
            "29/29 [==============================] - 121s 4s/step - loss: 0.0757 - accuracy: 0.9789 - val_loss: 0.0243 - val_accuracy: 1.0000\n",
            "Epoch 63/69\n",
            "29/29 [==============================] - 118s 4s/step - loss: 0.0440 - accuracy: 0.9856 - val_loss: 0.0169 - val_accuracy: 1.0000\n",
            "Epoch 64/69\n",
            "29/29 [==============================] - 119s 4s/step - loss: 0.0452 - accuracy: 0.9878 - val_loss: 0.0179 - val_accuracy: 1.0000\n",
            "Epoch 65/69\n",
            "29/29 [==============================] - 117s 4s/step - loss: 0.0179 - accuracy: 0.9944 - val_loss: 0.0142 - val_accuracy: 1.0000\n",
            "Epoch 66/69\n",
            "29/29 [==============================] - 120s 4s/step - loss: 0.0074 - accuracy: 0.9989 - val_loss: 0.0127 - val_accuracy: 1.0000\n",
            "Epoch 67/69\n",
            "29/29 [==============================] - 120s 4s/step - loss: 0.0132 - accuracy: 0.9944 - val_loss: 0.0082 - val_accuracy: 1.0000\n",
            "Epoch 68/69\n",
            "29/29 [==============================] - 121s 4s/step - loss: 0.0238 - accuracy: 0.9933 - val_loss: 0.0111 - val_accuracy: 1.0000\n",
            "Epoch 69/69\n",
            "29/29 [==============================] - 119s 4s/step - loss: 0.0227 - accuracy: 0.9933 - val_loss: 0.0253 - val_accuracy: 0.9933\n"
          ]
        }
      ],
      "source": [
        "history1=model.fit(x_train,y_train,epochs=69,validation_data=(x_valid,y_valid))"
      ]
    },
    {
      "cell_type": "code",
      "execution_count": 8,
      "metadata": {
        "colab": {
          "base_uri": "https://localhost:8080/",
          "height": 824
        },
        "id": "VLD8VKrxYgx9",
        "outputId": "08342c39-5e00-4152-bffa-468ba6e1bcb1"
      },
      "outputs": [
        {
          "data": {
            "image/png": "[encoded data removed]",
            "text/plain": [
              "<IPython.core.display.Image object>"
            ]
          },
          "execution_count": 8,
          "metadata": {},
          "output_type": "execute_result"
        }
      ],
      "source": [
        "keras.utils.plot_model(model, expand_nested=True, dpi=60, show_shapes=True)"
      ]
    },
    {
      "cell_type": "code",
      "execution_count": 8,
      "metadata": {
        "id": "OhFtWdpIZdNN"
      },
      "outputs": [],
      "source": []
    },
    {
      "cell_type": "code",
      "execution_count": 10,
      "metadata": {
        "colab": {
          "base_uri": "https://localhost:8080/",
          "height": 312
        },
        "id": "I6prBrjmrmC0",
        "outputId": "58681c4b-6443-42c0-f7f6-c1e6f674ff50"
      },
      "outputs": [
        {
          "name": "stdout",
          "output_type": "stream",
          "text": [
            "dict_keys(['loss', 'accuracy', 'val_loss', 'val_accuracy'])\n"
          ]
        },
        {
          "data": {
            "image/png": "[encoded data removed]",
            "text/plain": [
              "<Figure size 432x288 with 1 Axes>"
            ]
          },
          "metadata": {
            "needs_background": "light"
          },
          "output_type": "display_data"
        }
      ],
      "source": [
        "model.save('/content/drive/MyDrive/action_Model.h5')\n",
        "print(history1.history.keys())\n",
        "# summarize history for accuracy\n",
        "plt.plot(history1.history['accuracy'])\n",
        "plt.plot(history1.history['val_accuracy'])\n",
        "plt.title('model accuracy')\n",
        "plt.ylabel('accuracy')\n",
        "plt.xlabel('epoch')\n",
        "plt.legend(['train', 'test'], loc='upper left')\n",
        "plt.show()"
      ]
    },
    {
      "cell_type": "code",
      "execution_count": 11,
      "metadata": {
        "colab": {
          "base_uri": "https://localhost:8080/",
          "height": 34
        },
        "id": "5Mbnl2LArmC1",
        "outputId": "dab0f2f9-58a6-4573-835e-869c5eeb714c"
      },
      "outputs": [
        {
          "data": {
            "text/plain": [
              "<Figure size 432x288 with 0 Axes>"
            ]
          },
          "metadata": {},
          "output_type": "display_data"
        }
      ],
      "source": [
        "plt.savefig('/content/drive/MyDrive/action_Model.png')"
      ]
    },
    {
      "cell_type": "code",
      "execution_count": 12,
      "metadata": {
        "id": "gcnfTucermC1"
      },
      "outputs": [],
      "source": [
        "model.save_weights('/content/drive/MyDrive/weights_action_Model.h5')"
      ]
    },
    {
      "cell_type": "code",
      "execution_count": 13,
      "metadata": {
        "id": "YNJdGWmLAc_J"
      },
      "outputs": [],
      "source": [
        "model = tf.keras.models.load_model('/content/drive/MyDrive/action_Model.h5')"
      ]
    },
    {
      "cell_type": "markdown",
      "metadata": {
        "id": "d8wyjWqFAeB1"
      },
      "source": [
        "## load test data"
      ]
    },
    {
      "cell_type": "code",
      "execution_count": 14,
      "metadata": {
        "id": "oTfh8Jf0CDgc"
      },
      "outputs": [],
      "source": [
        "x_test = np.load('/content/drive/MyDrive/tensors_files/x_test_1-tensor.npy', allow_pickle=True)\n",
        "y_test = np.load('/content/drive/MyDrive/tensors_files/y_test_1-tensor.npy', allow_pickle=True)"
      ]
    },
    {
      "cell_type": "code",
      "execution_count": 15,
      "metadata": {
        "colab": {
          "base_uri": "https://localhost:8080/"
        },
        "id": "aQy5tp5v0J6P",
        "outputId": "b15810eb-8674-4881-99ac-4879dc94dd29"
      },
      "outputs": [
        {
          "name": "stdout",
          "output_type": "stream",
          "text": [
            "Evaluate on test data\n",
            "5/5 [==============================] - 11s 1s/step - loss: 5.3034 - accuracy: 0.2274\n",
            "test loss, test acc: [5.303417205810547, 0.227424755692482]\n"
          ]
        }
      ],
      "source": [
        "# Evaluate the model on the test data using `evaluate`\n",
        "print(\"Evaluate on test data\")\n",
        "results = model.evaluate(x_test, y_test, batch_size=64)\n",
        "print(\"test loss, test acc:\", results)\n"
      ]
    },
    {
      "cell_type": "code",
      "execution_count": 16,
      "metadata": {
        "colab": {
          "base_uri": "https://localhost:8080/"
        },
        "id": "7qUCaqu2CP4L",
        "outputId": "f4152397-896b-4452-a291-2e278b911ace"
      },
      "outputs": [
        {
          "name": "stdout",
          "output_type": "stream",
          "text": [
            "Generate predictions for 3 samples\n",
            "1/1 [==============================] - 0s 258ms/step\n",
            "predictions shape: (3, 10)\n"
          ]
        }
      ],
      "source": [
        "# Generate predictions (probabilities -- the output of the last layer)\n",
        "# on new data using `predict`\n",
        "print(\"Generate predictions for 3 samples\")\n",
        "predictions = model.predict(x_test[:3])\n",
        "print(\"predictions shape:\", predictions.shape)"
      ]
    },
    {
      "cell_type": "code",
      "execution_count": null,
      "metadata": {},
      "outputs": [],
      "source": []
    }
  ],
  "metadata": {
    "accelerator": "GPU",
    "colab": {
      "provenance": []
    },
    "gpuClass": "standard",
    "kernelspec": {
      "display_name": "Python 3.10.5 64-bit",
      "language": "python",
      "name": "python3"
    },
    "language_info": {
      "codemirror_mode": {
        "name": "ipython",
        "version": 3
      },
      "file_extension": ".py",
      "mimetype": "text/x-python",
      "name": "python",
      "nbconvert_exporter": "python",
      "pygments_lexer": "ipython3",
      "version": "3.10.5"
    },
    "vscode": {
      "interpreter": {
        "hash": "2c1d53054155cd49b2a96c2bfed63d0e720c7c155830a1fd4135e6a26f0aebed"
      }
    }
  },
  "nbformat": 4,
  "nbformat_minor": 0
}
